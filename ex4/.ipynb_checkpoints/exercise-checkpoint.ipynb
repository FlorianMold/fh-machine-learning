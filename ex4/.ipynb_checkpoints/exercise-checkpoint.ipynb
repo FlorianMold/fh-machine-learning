{
 "cells": [
  {
   "cell_type": "markdown",
   "metadata": {
    "pycharm": {
     "name": "#%% md\n"
    }
   },
   "source": [
    "# Exercise 4 - Deep learning"
   ]
  },
  {
   "cell_type": "markdown",
   "metadata": {
    "pycharm": {
     "name": "#%% md\n"
    }
   },
   "source": [
    "Note:\n",
    "\n",
    "Inspirations:\n",
    "- https://github.com/tuwien-musicir/DeepLearning_Tutorial/\n",
    "- https://www.cs.toronto.edu/~kriz/cifar.html"
   ]
  },
  {
   "cell_type": "markdown",
   "metadata": {
    "pycharm": {
     "name": "#%% md\n"
    }
   },
   "source": [
    "## CIFAR-10\n",
    "\n",
    "- https://www.cs.toronto.edu/~kriz/cifar.html\n",
    "\n",
    "\n",
    "The training dataset consists of 50000 32x32 images in 10 different classes, in every of this classes there are 5000 images.\n",
    "\n",
    "The test dataset consists of 10000 32x32 images in 10 different classes, in every of this classes there are 1000 images.\n",
    "\n",
    "- airplane\n",
    "- automobile\n",
    "- bird\n",
    "- cat\n",
    "- deer\n",
    "- dog\n",
    "- frog\n",
    "- horse\n",
    "- ship\n",
    "- truck\n",
    "\n",
    "The images are an array with a length of 3072 element (1024x3)"
   ]
  },
  {
   "cell_type": "markdown",
   "metadata": {
    "pycharm": {
     "name": "#%% md\n"
    }
   },
   "source": [
    "## Import dependencies"
   ]
  },
  {
   "cell_type": "code",
   "execution_count": 1,
   "metadata": {
    "pycharm": {
     "name": "#%%\n"
    }
   },
   "outputs": [
    {
     "name": "stderr",
     "output_type": "stream",
     "text": [
      "2022-06-30 07:44:01.230016: W tensorflow/stream_executor/platform/default/dso_loader.cc:64] Could not load dynamic library 'libcudart.so.11.0'; dlerror: libcudart.so.11.0: cannot open shared object file: No such file or directory\n",
      "2022-06-30 07:44:01.230137: I tensorflow/stream_executor/cuda/cudart_stub.cc:29] Ignore above cudart dlerror if you do not have a GPU set up on your machine.\n"
     ]
    }
   ],
   "source": [
    "import glob\n",
    "import os\n",
    "\n",
    "import matplotlib.pyplot as plt\n",
    "import numpy as np\n",
    "from keras.layers import Convolution2D, Dense, Dropout\n",
    "from keras.models import Sequential\n",
    "from keras.preprocessing.image import ImageDataGenerator\n",
    "from keras.utils import np_utils\n",
    "from sklearn.metrics import accuracy_score\n",
    "from tensorflow import keras\n",
    "import pickle\n",
    "\n",
    "randomState = 11776836\n",
    "np.random.seed(randomState)\n",
    "\n",
    "epochs = 6\n",
    "batchSize = 32"
   ]
  },
  {
   "cell_type": "markdown",
   "metadata": {
    "pycharm": {
     "name": "#%% md\n"
    }
   },
   "source": [
    "## Load dataset"
   ]
  },
  {
   "cell_type": "markdown",
   "metadata": {
    "pycharm": {
     "name": "#%% md\n"
    }
   },
   "source": [
    "Load the data-batches"
   ]
  },
  {
   "cell_type": "code",
   "execution_count": 2,
   "metadata": {
    "pycharm": {
     "name": "#%%\n"
    }
   },
   "outputs": [
    {
     "name": "stdout",
     "output_type": "stream",
     "text": [
      "Imported 5 files\n"
     ]
    }
   ],
   "source": [
    "def unpickle(file):\n",
    "    with open(file, 'rb') as fo:\n",
    "        dict = pickle.load(fo, encoding='bytes')\n",
    "    return dict\n",
    "\n",
    "\n",
    "path = '../data/cifar-10/data'\n",
    "files = glob.glob(os.path.join(path, '*_*'))\n",
    "\n",
    "print('Imported ' + str(len(files)) + ' files')"
   ]
  },
  {
   "cell_type": "markdown",
   "metadata": {
    "pycharm": {
     "name": "#%% md\n"
    }
   },
   "source": [
    "## Load the images"
   ]
  },
  {
   "cell_type": "code",
   "execution_count": 3,
   "metadata": {
    "pycharm": {
     "name": "#%%\n"
    }
   },
   "outputs": [
    {
     "name": "stdout",
     "output_type": "stream",
     "text": [
      "50000 images 50000 imageNames 50000 imageLabels\n"
     ]
    }
   ],
   "source": [
    "images = np.empty([0, 3072], dtype=np.ubyte)\n",
    "imageNames = []\n",
    "imageLabels = []\n",
    "\n",
    "for filename in files:\n",
    "    fileData = unpickle(filename)\n",
    "    imageNames.extend(fileData[b'filenames'])\n",
    "    imageLabels.extend(fileData[b'labels'])\n",
    "    images = np.append(images, fileData[b'data'], axis=0)\n",
    "\n",
    "print(len(images), 'images', len(imageNames), 'imageNames', len(imageLabels), 'imageLabels')"
   ]
  },
  {
   "cell_type": "markdown",
   "metadata": {
    "pycharm": {
     "name": "#%% md\n"
    }
   },
   "source": [
    "## Create the Groundtruth"
   ]
  },
  {
   "cell_type": "code",
   "execution_count": 4,
   "metadata": {
    "pycharm": {
     "name": "#%%\n"
    }
   },
   "outputs": [
    {
     "name": "stdout",
     "output_type": "stream",
     "text": [
      "Look at the first 25 labels\n",
      "[1, 8, 5, 1, 5, 7, 4, 3, 8, 2, 7, 2, 0, 1, 5, 9, 6, 2, 0, 8, 2, 7, 0, 4, 1] \n",
      "\n",
      "10 unique image labels were found {0, 1, 2, 3, 4, 5, 6, 7, 8, 9} \n",
      "\n",
      "Groundtruth Statistics:\n",
      "Class 0 : 5000\n",
      "Class 1 : 5000\n",
      "Class 2 : 5000\n",
      "Class 3 : 5000\n",
      "Class 4 : 5000\n",
      "Class 5 : 5000\n",
      "Class 6 : 5000\n",
      "Class 7 : 5000\n",
      "Class 8 : 5000\n",
      "Class 9 : 5000\n"
     ]
    }
   ],
   "source": [
    "# look at the first 25 classes\n",
    "print(\"Look at the first 25 labels\")\n",
    "print(imageLabels[0:25], '\\n')\n",
    "\n",
    "uniqueImageLabelSet = set(imageLabels)\n",
    "print(len(uniqueImageLabelSet), 'unique image labels were found', uniqueImageLabelSet, '\\n')\n",
    "\n",
    "print(\"Groundtruth Statistics:\")\n",
    "for v in uniqueImageLabelSet:\n",
    "    print(\"Class\", v, \":\", imageLabels.count(v))\n",
    "\n",
    "# The classes are very balanced\n",
    "imageClasses = np_utils.to_categorical(imageLabels)"
   ]
  },
  {
   "cell_type": "markdown",
   "metadata": {
    "pycharm": {
     "name": "#%% md\n"
    }
   },
   "source": [
    "## Standardization"
   ]
  },
  {
   "cell_type": "code",
   "execution_count": 5,
   "metadata": {
    "pycharm": {
     "name": "#%%\n"
    }
   },
   "outputs": [
    {
     "name": "stdout",
     "output_type": "stream",
     "text": [
      "Image values statistics:\n",
      "Min pixel value 0\n",
      "Max pixel value 255\n",
      "Mean 120.70756512369792\n",
      "Standard Deviation 64.15007589112129\n"
     ]
    }
   ],
   "source": [
    "print(\"Image values statistics:\")\n",
    "print('Min pixel value', images.min())\n",
    "print('Max pixel value', images.max())\n",
    "\n",
    "meanValue = images.mean()\n",
    "stddevValue = images.std()\n",
    "\n",
    "print('Mean', meanValue)\n",
    "print('Standard Deviation', stddevValue)"
   ]
  },
  {
   "cell_type": "code",
   "execution_count": 6,
   "metadata": {
    "pycharm": {
     "name": "#%%\n"
    }
   },
   "outputs": [
    {
     "name": "stdout",
     "output_type": "stream",
     "text": [
      "Standardized mean -1.562009780779287e-17\n",
      "Standardized standard deviation 1.0000000000000002\n",
      "Standardized min pixel value -1.8816433721538977\n",
      "Standardized max pixel value 2.0934103819959606\n"
     ]
    }
   ],
   "source": [
    "standardizedImagesValue = (images - meanValue) / stddevValue\n",
    "standardizedImagesValue = np.array(standardizedImagesValue, dtype=float)\n",
    "\n",
    "print('Standardized mean', standardizedImagesValue.mean())\n",
    "print('Standardized standard deviation', standardizedImagesValue.std())\n",
    "\n",
    "print('Standardized min pixel value', standardizedImagesValue.min())\n",
    "print('Standardized max pixel value', standardizedImagesValue.max())"
   ]
  },
  {
   "cell_type": "markdown",
   "metadata": {
    "pycharm": {
     "name": "#%% md\n"
    }
   },
   "source": [
    "## Creating NN Models in Keras"
   ]
  },
  {
   "cell_type": "markdown",
   "metadata": {
    "pycharm": {
     "name": "#%% md\n"
    }
   },
   "source": [
    "### 1) Fully Connected NN"
   ]
  },
  {
   "cell_type": "code",
   "execution_count": 7,
   "metadata": {
    "pycharm": {
     "name": "#%%\n"
    }
   },
   "outputs": [
    {
     "name": "stdout",
     "output_type": "stream",
     "text": [
      "(50000, 3072)\n"
     ]
    }
   ],
   "source": [
    "print(standardizedImagesValue.shape)"
   ]
  },
  {
   "cell_type": "code",
   "execution_count": 8,
   "metadata": {
    "pycharm": {
     "name": "#%%\n"
    }
   },
   "outputs": [
    {
     "name": "stdout",
     "output_type": "stream",
     "text": [
      "Input shape for NN:  3072\n"
     ]
    }
   ],
   "source": [
    "# find out input shape for NN, which is just a long vector\n",
    "inputShape = standardizedImagesValue.shape[1]\n",
    "print('Input shape for NN: ', inputShape)"
   ]
  },
  {
   "cell_type": "markdown",
   "metadata": {
    "pycharm": {
     "name": "#%% md\n"
    }
   },
   "source": [
    "### Creating a Model\n"
   ]
  },
  {
   "cell_type": "code",
   "execution_count": 9,
   "metadata": {
    "pycharm": {
     "name": "#%%\n"
    }
   },
   "outputs": [
    {
     "name": "stdout",
     "output_type": "stream",
     "text": [
      "Model: \"sequential\"\n",
      "_________________________________________________________________\n",
      " Layer (type)                Output Shape              Param #   \n",
      "=================================================================\n",
      " dense (Dense)               (None, 256)               786688    \n",
      "                                                                 \n",
      " dense_1 (Dense)             (None, 256)               65792     \n",
      "                                                                 \n",
      " dense_2 (Dense)             (None, 10)                2570      \n",
      "                                                                 \n",
      "=================================================================\n",
      "Total params: 855,050\n",
      "Trainable params: 855,050\n",
      "Non-trainable params: 0\n",
      "_________________________________________________________________\n"
     ]
    },
    {
     "name": "stderr",
     "output_type": "stream",
     "text": [
      "2022-06-30 07:44:08.859475: W tensorflow/stream_executor/platform/default/dso_loader.cc:64] Could not load dynamic library 'libcuda.so.1'; dlerror: libcuda.so.1: cannot open shared object file: No such file or directory\n",
      "2022-06-30 07:44:08.859723: W tensorflow/stream_executor/cuda/cuda_driver.cc:269] failed call to cuInit: UNKNOWN ERROR (303)\n",
      "2022-06-30 07:44:08.859762: I tensorflow/stream_executor/cuda/cuda_diagnostics.cc:156] kernel driver does not appear to be running on this host (FlorianM): /proc/driver/nvidia/version does not exist\n",
      "2022-06-30 07:44:08.860894: I tensorflow/core/platform/cpu_feature_guard.cc:193] This TensorFlow binary is optimized with oneAPI Deep Neural Network Library (oneDNN) to use the following CPU instructions in performance-critical operations:  AVX2 FMA\n",
      "To enable them in other operations, rebuild TensorFlow with the appropriate compiler flags.\n"
     ]
    }
   ],
   "source": [
    "# simple Fully-connected network\n",
    "\n",
    "model = Sequential()\n",
    "model.add(Dense(256, input_dim=inputShape))\n",
    "model.add(Dense(256, activation='sigmoid'))\n",
    "model.add(Dense(len(uniqueImageLabelSet), activation='softmax'))\n",
    "\n",
    "model.summary()"
   ]
  },
  {
   "cell_type": "markdown",
   "metadata": {
    "pycharm": {
     "name": "#%% md\n"
    }
   },
   "source": [
    "### Defining Loss Function and Optimizer Strategy: Gradient Descent"
   ]
  },
  {
   "cell_type": "code",
   "execution_count": 10,
   "metadata": {
    "pycharm": {
     "name": "#%%\n"
    }
   },
   "outputs": [],
   "source": [
    "# Define a loss function\n",
    "loss = 'categorical_crossentropy'  # 'categorical_crossentropy' for multi-class problems\n",
    "\n",
    "# Optimizer = Stochastic Gradient Descent\n",
    "optimizer = 'sgd'\n",
    "\n",
    "# Compiling the model\n",
    "model.compile(loss=loss, optimizer=optimizer, metrics=['accuracy'])"
   ]
  },
  {
   "cell_type": "markdown",
   "metadata": {
    "pycharm": {
     "name": "#%% md\n"
    }
   },
   "source": [
    "### Training the model on the input dataset"
   ]
  },
  {
   "cell_type": "code",
   "execution_count": 11,
   "metadata": {
    "pycharm": {
     "name": "#%%\n"
    }
   },
   "outputs": [
    {
     "name": "stdout",
     "output_type": "stream",
     "text": [
      "Epoch 1/6\n"
     ]
    },
    {
     "name": "stderr",
     "output_type": "stream",
     "text": [
      "2022-06-30 07:44:09.179729: W tensorflow/core/framework/cpu_allocator_impl.cc:82] Allocation of 614400000 exceeds 10% of free system memory.\n"
     ]
    },
    {
     "name": "stdout",
     "output_type": "stream",
     "text": [
      "1563/1563 [==============================] - 11s 7ms/step - loss: 1.8225 - accuracy: 0.3616\n",
      "Epoch 2/6\n",
      "1563/1563 [==============================] - 9s 6ms/step - loss: 1.6941 - accuracy: 0.4125\n",
      "Epoch 3/6\n",
      "1563/1563 [==============================] - 10s 6ms/step - loss: 1.6436 - accuracy: 0.4339\n",
      "Epoch 4/6\n",
      "1563/1563 [==============================] - 9s 6ms/step - loss: 1.6060 - accuracy: 0.4472\n",
      "Epoch 5/6\n",
      "1563/1563 [==============================] - 9s 6ms/step - loss: 1.5737 - accuracy: 0.4594\n",
      "Epoch 6/6\n",
      "1563/1563 [==============================] - 9s 6ms/step - loss: 1.5447 - accuracy: 0.4700\n"
     ]
    },
    {
     "data": {
      "text/plain": [
       "<keras.callbacks.History at 0x7f01fc414b20>"
      ]
     },
     "execution_count": 11,
     "metadata": {},
     "output_type": "execute_result"
    }
   ],
   "source": [
    "# train the model\n",
    "model.fit(standardizedImagesValue, imageClasses, batch_size=batchSize, epochs=epochs)"
   ]
  },
  {
   "cell_type": "markdown",
   "metadata": {
    "pycharm": {
     "name": "#%% md\n"
    }
   },
   "source": [
    "#### Verify accuracy on training set"
   ]
  },
  {
   "cell_type": "code",
   "execution_count": 12,
   "metadata": {
    "pycharm": {
     "name": "#%%\n"
    }
   },
   "outputs": [
    {
     "name": "stdout",
     "output_type": "stream",
     "text": [
      "  36/1563 [..............................] - ETA: 4s"
     ]
    },
    {
     "name": "stderr",
     "output_type": "stream",
     "text": [
      "2022-06-30 07:45:07.620601: W tensorflow/core/framework/cpu_allocator_impl.cc:82] Allocation of 614400000 exceeds 10% of free system memory.\n"
     ]
    },
    {
     "name": "stdout",
     "output_type": "stream",
     "text": [
      "1563/1563 [==============================] - 5s 3ms/step\n",
      "Accuracy: 0.48296\n"
     ]
    }
   ],
   "source": [
    "predictions = model.predict(standardizedImagesValue)\n",
    "predictedClassesTrain = np.argmax(predictions, axis=1)\n",
    "trainImageLabelsForComparison = np.array(imageLabels)\n",
    "accuracyTrainingSet = accuracy_score(trainImageLabelsForComparison, predictedClassesTrain)\n",
    "\n",
    "print('Accuracy:', accuracyTrainingSet)"
   ]
  },
  {
   "cell_type": "markdown",
   "metadata": {
    "pycharm": {
     "name": "#%% md\n"
    }
   },
   "source": [
    "### Testing with Test data set"
   ]
  },
  {
   "cell_type": "code",
   "execution_count": 13,
   "metadata": {
    "pycharm": {
     "name": "#%%\n"
    }
   },
   "outputs": [
    {
     "name": "stdout",
     "output_type": "stream",
     "text": [
      "Imported 1 file.\n"
     ]
    }
   ],
   "source": [
    "path = '../data/cifar-10'\n",
    "files = glob.glob(os.path.join(path, 'test_batch'))\n",
    "print('Imported', len(files), 'file.')"
   ]
  },
  {
   "cell_type": "code",
   "execution_count": 14,
   "metadata": {
    "pycharm": {
     "name": "#%%\n"
    }
   },
   "outputs": [
    {
     "name": "stdout",
     "output_type": "stream",
     "text": [
      "50000 images 50000 imageNames 50000 imageLabels\n"
     ]
    }
   ],
   "source": [
    "testImages = np.empty([0, 3072], dtype=np.ubyte)\n",
    "testImageNames = []\n",
    "testImageLabels = []\n",
    "\n",
    "for filename in files:\n",
    "    fileData = unpickle(filename)\n",
    "    testImageNames.extend(fileData[b'filenames'])\n",
    "    testImageLabels.extend(fileData[b'labels'])\n",
    "    testImages = np.append(testImages, fileData[b'data'], axis=0)\n",
    "\n",
    "print(len(images), 'images', len(imageNames), 'imageNames', len(imageLabels), 'imageLabels')\n",
    "\n",
    "comparisonTestImageLabels = np.array(testImageLabels)\n",
    "testImageClasses = np_utils.to_categorical(testImageLabels)"
   ]
  },
  {
   "cell_type": "code",
   "execution_count": 15,
   "metadata": {
    "pycharm": {
     "name": "#%%\n"
    }
   },
   "outputs": [
    {
     "name": "stdout",
     "output_type": "stream",
     "text": [
      "Groundtruth Statistics:\n",
      "Label 0 : 1000\n",
      "Label 1 : 1000\n",
      "Label 2 : 1000\n",
      "Label 3 : 1000\n",
      "Label 4 : 1000\n",
      "Label 5 : 1000\n",
      "Label 6 : 1000\n",
      "Label 7 : 1000\n",
      "Label 8 : 1000\n",
      "Label 9 : 1000\n"
     ]
    }
   ],
   "source": [
    "print(\"Groundtruth Statistics:\")\n",
    "for v in set(testImageLabels):\n",
    "    print(\"Label\", v, \":\", testImageLabels.count(v))"
   ]
  },
  {
   "cell_type": "markdown",
   "metadata": {
    "pycharm": {
     "name": "#%% md\n"
    }
   },
   "source": [
    "### Standardize Test Set"
   ]
  },
  {
   "cell_type": "code",
   "execution_count": 16,
   "metadata": {
    "pycharm": {
     "name": "#%%\n"
    }
   },
   "outputs": [
    {
     "name": "stdout",
     "output_type": "stream",
     "text": [
      "121.52915475260417 64.06097012299574\n",
      "0.012807305642174001 0.9986109795368486\n"
     ]
    }
   ],
   "source": [
    "print(testImages.mean(), testImages.std())\n",
    "\n",
    "standardDeviationTestImages = (testImages - meanValue) / stddevValue\n",
    "\n",
    "print(standardDeviationTestImages.mean(), standardDeviationTestImages.std())"
   ]
  },
  {
   "cell_type": "markdown",
   "metadata": {
    "pycharm": {
     "name": "#%% md\n"
    }
   },
   "source": [
    "### Make predictions"
   ]
  },
  {
   "cell_type": "code",
   "execution_count": 17,
   "metadata": {
    "pycharm": {
     "name": "#%%\n"
    }
   },
   "outputs": [
    {
     "name": "stdout",
     "output_type": "stream",
     "text": [
      "313/313 [==============================] - 1s 3ms/step\n",
      "Accuracy: 0.4534\n"
     ]
    }
   ],
   "source": [
    "testPrediction = model.predict(standardDeviationTestImages)\n",
    "testPredictionClasses = np.argmax(testPrediction, axis=1)\n",
    "accuracyTestSet = accuracy_score(comparisonTestImageLabels, testPredictionClasses)\n",
    "print('Accuracy:', accuracyTestSet)"
   ]
  },
  {
   "cell_type": "markdown",
   "metadata": {
    "pycharm": {
     "name": "#%% md\n"
    }
   },
   "source": [
    "## 2) CNN"
   ]
  },
  {
   "cell_type": "code",
   "execution_count": 18,
   "metadata": {
    "pycharm": {
     "name": "#%%\n"
    }
   },
   "outputs": [],
   "source": [
    "nChannels = 3\n",
    "\n",
    "keras.backend.set_image_data_format('channels_last')\n",
    "trainImages = standardizedImagesValue.reshape(standardizedImagesValue.shape[0], 32, 32, nChannels)\n",
    "testImages = standardDeviationTestImages.reshape(standardDeviationTestImages.shape[0], 32, 32, nChannels)"
   ]
  },
  {
   "cell_type": "code",
   "execution_count": 19,
   "metadata": {
    "pycharm": {
     "name": "#%%\n"
    }
   },
   "outputs": [
    {
     "name": "stdout",
     "output_type": "stream",
     "text": [
      "(50000, 32, 32, 3)\n",
      "(10000, 32, 32, 3)\n"
     ]
    }
   ],
   "source": [
    "print(trainImages.shape)\n",
    "print(testImages.shape)"
   ]
  },
  {
   "cell_type": "code",
   "execution_count": 20,
   "metadata": {
    "pycharm": {
     "name": "#%%\n"
    }
   },
   "outputs": [
    {
     "name": "stdout",
     "output_type": "stream",
     "text": [
      "(32, 32, 3)\n"
     ]
    }
   ],
   "source": [
    "# we store the new shape of the images in the 'input_shape' variable.\n",
    "# take all dimensions except the 0th one (which is the number of images)\n",
    "\n",
    "inputShape = trainImages.shape[1:]\n",
    "print(inputShape)"
   ]
  },
  {
   "cell_type": "markdown",
   "metadata": {
    "pycharm": {
     "name": "#%% md\n"
    }
   },
   "source": [
    "### Create the CNN model"
   ]
  },
  {
   "cell_type": "code",
   "execution_count": 21,
   "metadata": {
    "pycharm": {
     "name": "#%%\n"
    }
   },
   "outputs": [
    {
     "name": "stdout",
     "output_type": "stream",
     "text": [
      "Model: \"sequential_1\"\n",
      "_________________________________________________________________\n",
      " Layer (type)                Output Shape              Param #   \n",
      "=================================================================\n",
      " conv2d (Conv2D)             (None, 30, 30, 64)        1792      \n",
      "                                                                 \n",
      " max_pooling2d (MaxPooling2D  (None, 15, 15, 64)       0         \n",
      " )                                                               \n",
      "                                                                 \n",
      " dropout (Dropout)           (None, 15, 15, 64)        0         \n",
      "                                                                 \n",
      " conv2d_1 (Conv2D)           (None, 13, 13, 64)        36928     \n",
      "                                                                 \n",
      " max_pooling2d_1 (MaxPooling  (None, 6, 6, 64)         0         \n",
      " 2D)                                                             \n",
      "                                                                 \n",
      " dropout_1 (Dropout)         (None, 6, 6, 64)          0         \n",
      "                                                                 \n",
      " conv2d_2 (Conv2D)           (None, 4, 4, 64)          36928     \n",
      "                                                                 \n",
      " flatten (Flatten)           (None, 1024)              0         \n",
      "                                                                 \n",
      " dense_3 (Dense)             (None, 64)                65600     \n",
      "                                                                 \n",
      " dense_4 (Dense)             (None, 10)                650       \n",
      "                                                                 \n",
      "=================================================================\n",
      "Total params: 141,898\n",
      "Trainable params: 141,898\n",
      "Non-trainable params: 0\n",
      "_________________________________________________________________\n"
     ]
    }
   ],
   "source": [
    "def createMyModel():\n",
    "    model = Sequential()\n",
    "\n",
    "    model.add(Convolution2D(inputShape[0] * 2, (3, 3), input_shape=inputShape, activation='relu'))\n",
    "    model.add(keras.layers.MaxPooling2D((2, 2)))\n",
    "    model.add(Dropout(0.3))\n",
    "\n",
    "    model.add(Convolution2D(inputShape[0] * 2, (3, 3), activation='relu'))\n",
    "    model.add(keras.layers.MaxPooling2D((2, 2)))\n",
    "\n",
    "    model.add(Dropout(0.2))\n",
    "    model.add(Convolution2D(inputShape[0] * 2, (3, 3), activation='relu'))\n",
    "\n",
    "    model.add(keras.layers.Flatten())\n",
    "    model.add(keras.layers.Dense(inputShape[0] * 2, activation='relu'))\n",
    "    model.add(keras.layers.Dense(len(uniqueImageLabelSet), activation='softmax'))\n",
    "\n",
    "    return model\n",
    "\n",
    "\n",
    "model = createMyModel()\n",
    "model.summary()"
   ]
  },
  {
   "cell_type": "markdown",
   "metadata": {
    "pycharm": {
     "name": "#%% md\n"
    }
   },
   "source": [
    "### Train the CNN"
   ]
  },
  {
   "cell_type": "code",
   "execution_count": 22,
   "metadata": {
    "pycharm": {
     "name": "#%%\n"
    }
   },
   "outputs": [
    {
     "name": "stdout",
     "output_type": "stream",
     "text": [
      "Epoch 1/6\n"
     ]
    },
    {
     "name": "stderr",
     "output_type": "stream",
     "text": [
      "2022-06-30 07:45:16.159306: W tensorflow/core/framework/cpu_allocator_impl.cc:82] Allocation of 614400000 exceeds 10% of free system memory.\n"
     ]
    },
    {
     "name": "stdout",
     "output_type": "stream",
     "text": [
      "1563/1563 [==============================] - 50s 32ms/step - loss: 1.8304 - accuracy: 0.3330\n",
      "Epoch 2/6\n",
      "1563/1563 [==============================] - 48s 31ms/step - loss: 1.5491 - accuracy: 0.4443\n",
      "Epoch 3/6\n",
      "1563/1563 [==============================] - 49s 31ms/step - loss: 1.4399 - accuracy: 0.4875\n",
      "Epoch 4/6\n",
      "1563/1563 [==============================] - 48s 31ms/step - loss: 1.3521 - accuracy: 0.5166\n",
      "Epoch 5/6\n",
      "1563/1563 [==============================] - 48s 31ms/step - loss: 1.2868 - accuracy: 0.5444\n",
      "Epoch 6/6\n",
      "1563/1563 [==============================] - 49s 31ms/step - loss: 1.2374 - accuracy: 0.5611\n"
     ]
    }
   ],
   "source": [
    "# Compiling the model\n",
    "loss = 'categorical_crossentropy'\n",
    "optimizer = 'sgd'\n",
    "\n",
    "model.compile(loss=loss, optimizer=optimizer, metrics=['accuracy'])\n",
    "\n",
    "history = model.fit(trainImages, imageClasses, batch_size=batchSize, epochs=epochs)"
   ]
  },
  {
   "cell_type": "markdown",
   "metadata": {
    "pycharm": {
     "name": "#%% md\n"
    }
   },
   "source": [
    "### Verify accuracy on test set"
   ]
  },
  {
   "cell_type": "code",
   "execution_count": 23,
   "metadata": {
    "pycharm": {
     "name": "#%%\n"
    }
   },
   "outputs": [
    {
     "name": "stdout",
     "output_type": "stream",
     "text": [
      "313/313 [==============================] - 3s 9ms/step\n",
      "Accuracy: 0.5769\n"
     ]
    }
   ],
   "source": [
    "# verify accuracy on test set\n",
    "prediction = model.predict(testImages)\n",
    "predictedClasses = np.argmax(prediction, axis=1)\n",
    "accuracyOnTestSet = accuracy_score(comparisonTestImageLabels, predictedClasses)\n",
    "print('Accuracy:', accuracyOnTestSet)"
   ]
  },
  {
   "cell_type": "markdown",
   "metadata": {
    "pycharm": {
     "name": "#%% md\n"
    }
   },
   "source": [
    "### Plotting the training curve"
   ]
  },
  {
   "cell_type": "code",
   "execution_count": 24,
   "metadata": {
    "pycharm": {
     "name": "#%%\n"
    }
   },
   "outputs": [
    {
     "data": {
      "text/plain": [
       "dict_keys(['loss', 'accuracy'])"
      ]
     },
     "execution_count": 24,
     "metadata": {},
     "output_type": "execute_result"
    }
   ],
   "source": [
    "hist = history.history\n",
    "hist.keys()"
   ]
  },
  {
   "cell_type": "code",
   "execution_count": 25,
   "metadata": {
    "pycharm": {
     "name": "#%%\n"
    }
   },
   "outputs": [
    {
     "data": {
      "text/plain": [
       "<matplotlib.legend.Legend at 0x7f01f442fa30>"
      ]
     },
     "execution_count": 25,
     "metadata": {},
     "output_type": "execute_result"
    },
    {
     "data": {
      "image/png": "[encoded data removed]",
      "text/plain": [
       "<Figure size 720x432 with 1 Axes>"
      ]
     },
     "metadata": {
      "needs_background": "light"
     },
     "output_type": "display_data"
    }
   ],
   "source": [
    "colors = {'loss': 'r', 'accuracy': 'b'}\n",
    "plt.figure(figsize=(10, 6))\n",
    "plt.title(\"Training Curve\")\n",
    "plt.xlabel(\"Epoch\")\n",
    "\n",
    "for measure in hist.keys():\n",
    "    color = colors[measure]\n",
    "    plt.plot(range(1, epochs + 1), hist[measure], color + '-', label=measure)  # use last 2 values to draw line\n",
    "\n",
    "plt.legend(loc='upper right', scatterpoints=1, frameon=False)"
   ]
  },
  {
   "cell_type": "markdown",
   "metadata": {
    "pycharm": {
     "name": "#%% md\n"
    }
   },
   "source": [
    "The second epoch has the highest increase in accuracy. Afterwards the increase was not very much. Due to computational limitation a higher epoch value was not chosen."
   ]
  },
  {
   "cell_type": "markdown",
   "metadata": {
    "pycharm": {
     "name": "#%% md\n"
    }
   },
   "source": [
    "## Data Augmentation"
   ]
  },
  {
   "cell_type": "code",
   "execution_count": 26,
   "metadata": {
    "pycharm": {
     "name": "#%%\n"
    }
   },
   "outputs": [
    {
     "name": "stdout",
     "output_type": "stream",
     "text": [
      "Epoch 1/6\n",
      "1563/1563 [==============================] - 50s 31ms/step - loss: 2.0911 - accuracy: 0.2234\n",
      "Epoch 2/6\n",
      "1563/1563 [==============================] - 49s 31ms/step - loss: 1.9208 - accuracy: 0.2903\n",
      "Epoch 3/6\n",
      "1563/1563 [==============================] - 48s 31ms/step - loss: 1.8674 - accuracy: 0.3099\n",
      "Epoch 4/6\n",
      "1563/1563 [==============================] - 49s 31ms/step - loss: 1.8260 - accuracy: 0.3252\n",
      "Epoch 5/6\n",
      "1563/1563 [==============================] - 48s 31ms/step - loss: 1.7910 - accuracy: 0.3401\n",
      "Epoch 6/6\n",
      "1563/1563 [==============================] - 50s 32ms/step - loss: 1.7531 - accuracy: 0.3532\n"
     ]
    }
   ],
   "source": [
    "datagen = ImageDataGenerator(\n",
    "    rotation_range=20,\n",
    "    width_shift_range=0.2,\n",
    "    height_shift_range=0.2,\n",
    "    zoom_range=0.2,\n",
    "    horizontal_flip=True)\n",
    "\n",
    "# recreate and recompile the model (otherwise we continue learning)\n",
    "model = createMyModel()\n",
    "model.compile(loss=loss, optimizer=optimizer, metrics=['accuracy'])\n",
    "\n",
    "# fits the model on batches with real-time data augmentation:\n",
    "history = model.fit(datagen.flow(trainImages, imageClasses, batch_size=batchSize),\n",
    "                    epochs=epochs)"
   ]
  },
  {
   "cell_type": "code",
   "execution_count": 27,
   "metadata": {
    "pycharm": {
     "name": "#%%\n"
    }
   },
   "outputs": [
    {
     "name": "stdout",
     "output_type": "stream",
     "text": [
      "313/313 [==============================] - 3s 8ms/step\n",
      "Accuracy 0.3657\n"
     ]
    }
   ],
   "source": [
    "# verify accuracy on test set with augmentation\n",
    "predictions = model.predict(testImages)\n",
    "predicatedClasses = np.argmax(predictions, axis=1)\n",
    "accuracy = accuracy_score(comparisonTestImageLabels, predicatedClasses)\n",
    "print('Accuracy', accuracy)"
   ]
  },
  {
   "cell_type": "markdown",
   "metadata": {
    "pycharm": {
     "name": "#%% md\n"
    }
   },
   "source": [
    "### Plotting the training curve with data augmentation"
   ]
  },
  {
   "cell_type": "code",
   "execution_count": 28,
   "metadata": {
    "pycharm": {
     "name": "#%%\n"
    }
   },
   "outputs": [
    {
     "data": {
      "text/plain": [
       "<matplotlib.legend.Legend at 0x7f01f590fa00>"
      ]
     },
     "execution_count": 28,
     "metadata": {},
     "output_type": "execute_result"
    },
    {
     "data": {
      "image/png": "[encoded data removed]",
      "text/plain": [
       "<Figure size 720x432 with 1 Axes>"
      ]
     },
     "metadata": {
      "needs_background": "light"
     },
     "output_type": "display_data"
    }
   ],
   "source": [
    "hist = history.history\n",
    "\n",
    "plt.figure(figsize=(10, 6))\n",
    "plt.title(\"Training Curve\")\n",
    "plt.xlabel(\"Epoch\")\n",
    "\n",
    "for measure in hist.keys():\n",
    "    color = colors[measure]\n",
    "    plt.plot(range(1, epochs + 1), hist[measure], color + '-', label=measure)\n",
    "\n",
    "plt.legend(loc='upper right', scatterpoints=1, frameon=False)"
   ]
  },
  {
   "cell_type": "markdown",
   "metadata": {
    "pycharm": {
     "name": "#%% md\n"
    }
   },
   "source": [
    "The results are very similar to the results without data augmentation. The second epoch also achieved the best results."
   ]
  },
  {
   "cell_type": "markdown",
   "metadata": {
    "pycharm": {
     "name": "#%% md\n"
    }
   },
   "source": [
    "## Analysis"
   ]
  },
  {
   "cell_type": "markdown",
   "metadata": {
    "pycharm": {
     "name": "#%% md\n"
    }
   },
   "source": [
    "Every class contains 10% of the images. Therefore, the minimum accuracy can be proposed as 0.1.\n",
    "\n",
    "The NN which I trained for this exercise has taken about 10 seconds per epoch. The loss was about 1.54 and the accuracy was 0.47. The accuracy on the test-set was 0.57.\n",
    "\n",
    "The CNN which I trained has taken about 50 seconds. The loss was about 1.23 and the accuracy was about 0.56.\n",
    "The test-set achieved a result of 0.57.\n",
    "\n",
    "\n",
    "Data Augmentation did not perform well, because the training time of the epochs was about the same. But the accuracy and the loss are worse. There is a loss of 1.82 and an accuracy of 0.32 on the test-set. On the test-set an accuracy of 0.36 was achieved.\n"
   ]
  }
 ],
 "metadata": {
  "kernelspec": {
   "display_name": "Python 3 (ipykernel)",
   "language": "python",
   "name": "python3"
  },
  "language_info": {
   "codemirror_mode": {
    "name": "ipython",
    "version": 3
   },
   "file_extension": ".py",
   "mimetype": "text/x-python",
   "name": "python",
   "nbconvert_exporter": "python",
   "pygments_lexer": "ipython3",
   "version": "3.8.10"
  }
 },
 "nbformat": 4,
 "nbformat_minor": 1
}
