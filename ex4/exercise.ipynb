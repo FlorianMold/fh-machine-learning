{
 "cells": [
  {
   "cell_type": "markdown",
   "source": [
    "# Exercise 4 - Deep learning"
   ],
   "metadata": {
    "collapsed": false,
    "pycharm": {
     "name": "#%% md\n"
    }
   }
  },
  {
   "cell_type": "markdown",
   "source": [
    "Note:\n",
    "\n",
    "Inspirations:\n",
    "- https://github.com/tuwien-musicir/DeepLearning_Tutorial/\n",
    "- https://www.cs.toronto.edu/~kriz/cifar.html"
   ],
   "metadata": {
    "collapsed": false,
    "pycharm": {
     "name": "#%% md\n"
    }
   }
  },
  {
   "cell_type": "markdown",
   "source": [
    "## CIFAR-10\n",
    "\n",
    "- https://www.cs.toronto.edu/~kriz/cifar.html\n",
    "\n",
    "\n"
   ],
   "metadata": {
    "collapsed": false,
    "pycharm": {
     "name": "#%% md\n"
    }
   }
  },
  {
   "cell_type": "markdown",
   "source": [
    "## Import dependencies"
   ],
   "metadata": {
    "collapsed": false,
    "pycharm": {
     "name": "#%% md\n"
    }
   }
  },
  {
   "cell_type": "code",
   "execution_count": 34,
   "outputs": [],
   "source": [
    "import glob\n",
    "import os\n",
    "\n",
    "import matplotlib.pyplot as plt\n",
    "import numpy as np\n",
    "from keras.layers import Convolution2D, Dense, Dropout\n",
    "from keras.models import Sequential\n",
    "from keras.preprocessing.image import ImageDataGenerator\n",
    "from keras.utils import np_utils\n",
    "from sklearn.metrics import accuracy_score\n",
    "from tensorflow import keras\n",
    "import pickle\n",
    "\n",
    "randomState = 11776836\n",
    "np.random.seed(randomState)\n",
    "\n",
    "epochs = 5\n",
    "batchSize = 32"
   ],
   "metadata": {
    "collapsed": false,
    "pycharm": {
     "name": "#%%\n"
    }
   }
  },
  {
   "cell_type": "markdown",
   "source": [
    "## Load dataset"
   ],
   "metadata": {
    "collapsed": false,
    "pycharm": {
     "name": "#%% md\n"
    }
   }
  },
  {
   "cell_type": "markdown",
   "source": [
    "Load the data-batches"
   ],
   "metadata": {
    "collapsed": false,
    "pycharm": {
     "name": "#%% md\n"
    }
   }
  },
  {
   "cell_type": "code",
   "execution_count": 35,
   "outputs": [
    {
     "name": "stdout",
     "output_type": "stream",
     "text": [
      "Imported 5 files\n"
     ]
    }
   ],
   "source": [
    "def unpickle(file):\n",
    "    with open(file, 'rb') as fo:\n",
    "        dict = pickle.load(fo, encoding='bytes')\n",
    "    return dict\n",
    "\n",
    "\n",
    "path = '../data/cifar-10/data'\n",
    "files = glob.glob(os.path.join(path, '*_*'))\n",
    "\n",
    "print('Imported ' + str(len(files)) + ' files')"
   ],
   "metadata": {
    "collapsed": false,
    "pycharm": {
     "name": "#%%\n"
    }
   }
  },
  {
   "cell_type": "markdown",
   "source": [
    "## Load the images"
   ],
   "metadata": {
    "collapsed": false,
    "pycharm": {
     "name": "#%% md\n"
    }
   }
  },
  {
   "cell_type": "code",
   "execution_count": 36,
   "outputs": [
    {
     "name": "stdout",
     "output_type": "stream",
     "text": [
      "50000 images 50000 imageNames 50000 imageLabels\n"
     ]
    }
   ],
   "source": [
    "images = np.empty([0, 3072], dtype=np.ubyte)\n",
    "imageNames = []\n",
    "imageLabels = []\n",
    "\n",
    "for filename in files:\n",
    "    fileData = unpickle(filename)\n",
    "    imageNames.extend(fileData[b'filenames'])\n",
    "    imageLabels.extend(fileData[b'labels'])\n",
    "    images = np.append(images, fileData[b'data'], axis=0)\n",
    "\n",
    "print(len(images), 'images', len(imageNames), 'imageNames', len(imageLabels), 'imageLabels')"
   ],
   "metadata": {
    "collapsed": false,
    "pycharm": {
     "name": "#%%\n"
    }
   }
  },
  {
   "cell_type": "markdown",
   "source": [
    "## Create the Groundtruth"
   ],
   "metadata": {
    "collapsed": false,
    "pycharm": {
     "name": "#%% md\n"
    }
   }
  },
  {
   "cell_type": "code",
   "execution_count": 36,
   "outputs": [],
   "source": [],
   "metadata": {
    "collapsed": false,
    "pycharm": {
     "name": "#%%\n"
    }
   }
  },
  {
   "cell_type": "code",
   "execution_count": 37,
   "outputs": [
    {
     "name": "stdout",
     "output_type": "stream",
     "text": [
      "Look at the first 25 labels\n",
      "[1, 8, 5, 1, 5, 7, 4, 3, 8, 2, 7, 2, 0, 1, 5, 9, 6, 2, 0, 8, 2, 7, 0, 4, 1] \n",
      "\n",
      "10 unique image labels were found {0, 1, 2, 3, 4, 5, 6, 7, 8, 9} \n",
      "\n",
      "Groundtruth Statistics:\n",
      "Class 0 : 5000\n",
      "Class 1 : 5000\n",
      "Class 2 : 5000\n",
      "Class 3 : 5000\n",
      "Class 4 : 5000\n",
      "Class 5 : 5000\n",
      "Class 6 : 5000\n",
      "Class 7 : 5000\n",
      "Class 8 : 5000\n",
      "Class 9 : 5000\n"
     ]
    }
   ],
   "source": [
    "# look at the first 25 classes\n",
    "print(\"Look at the first 25 labels\")\n",
    "print(imageLabels[0:25], '\\n')\n",
    "\n",
    "uniqueImageLabelSet = set(imageLabels)\n",
    "print(len(uniqueImageLabelSet), 'unique image labels were found', uniqueImageLabelSet, '\\n')\n",
    "\n",
    "print(\"Groundtruth Statistics:\")\n",
    "for v in uniqueImageLabelSet:\n",
    "    print(\"Class\", v, \":\", imageLabels.count(v))\n",
    "\n",
    "# The classes are very balanced\n",
    "imageClasses = np_utils.to_categorical(imageLabels)"
   ],
   "metadata": {
    "collapsed": false,
    "pycharm": {
     "name": "#%%\n"
    }
   }
  },
  {
   "cell_type": "markdown",
   "source": [
    "## Standardization"
   ],
   "metadata": {
    "collapsed": false,
    "pycharm": {
     "name": "#%% md\n"
    }
   }
  },
  {
   "cell_type": "markdown",
   "source": [
    "Here we use Zero-mean Unit-variance standardization which means we deduct the mean and divide by the standard deviation.\n",
    "\n",
    "(Note: Here, we do this \"flat\", i.e. one mean and std.dev. for the whole image is computed over all pixels (not per pixel); in RGB images, standardization can be done e.g. for each colour channel individually; in other/non-image data sets, attribute-wise standardization should be applied)."
   ],
   "metadata": {
    "collapsed": false,
    "pycharm": {
     "name": "#%% md\n"
    }
   }
  },
  {
   "cell_type": "code",
   "execution_count": 38,
   "outputs": [
    {
     "name": "stdout",
     "output_type": "stream",
     "text": [
      "Image values statistics:\n",
      "Min pixel value 0\n",
      "Max pixel value 255\n",
      "Mean 120.70756512369792\n",
      "Standard Deviation 64.15007589112129\n"
     ]
    }
   ],
   "source": [
    "print(\"Image values statistics:\")\n",
    "print('Min pixel value', images.min())\n",
    "print('Max pixel value', images.max())\n",
    "\n",
    "meanValue = images.mean()\n",
    "stddevValue = images.std()\n",
    "\n",
    "print('Mean', meanValue)\n",
    "print('Standard Deviation', stddevValue)"
   ],
   "metadata": {
    "collapsed": false,
    "pycharm": {
     "name": "#%%\n"
    }
   }
  },
  {
   "cell_type": "code",
   "execution_count": 39,
   "outputs": [
    {
     "name": "stdout",
     "output_type": "stream",
     "text": [
      "Standardized mean -1.562009780779287e-17\n",
      "Standardized standard deviation 1.0000000000000002\n",
      "Standardized min pixel value -1.8816433721538977\n",
      "Standardized max pixel value 2.0934103819959606\n"
     ]
    }
   ],
   "source": [
    "standardizedImagesValue = (images - meanValue) / stddevValue\n",
    "standardizedImagesValue = np.array(standardizedImagesValue, dtype=float)\n",
    "\n",
    "print('Standardized mean', standardizedImagesValue.mean())\n",
    "print('Standardized standard deviation', standardizedImagesValue.std())\n",
    "\n",
    "print('Standardized min pixel value', standardizedImagesValue.min())\n",
    "print('Standardized max pixel value', standardizedImagesValue.max())"
   ],
   "metadata": {
    "collapsed": false,
    "pycharm": {
     "name": "#%%\n"
    }
   }
  },
  {
   "cell_type": "markdown",
   "source": [
    "## Creating NN Models in Keras"
   ],
   "metadata": {
    "collapsed": false,
    "pycharm": {
     "name": "#%% md\n"
    }
   }
  },
  {
   "cell_type": "markdown",
   "source": [
    "### 1) Fully Connected NN"
   ],
   "metadata": {
    "collapsed": false,
    "pycharm": {
     "name": "#%% md\n"
    }
   }
  },
  {
   "cell_type": "markdown",
   "source": [
    "For a fully connected neural network, the x and y axis of an image do not play a role at all. All pixels are considered as a completely individual input to the neural network. Therefore the 2D image arrays have to be flattened to a vector."
   ],
   "metadata": {
    "collapsed": false,
    "pycharm": {
     "name": "#%% md\n"
    }
   }
  },
  {
   "cell_type": "code",
   "execution_count": 40,
   "outputs": [
    {
     "name": "stdout",
     "output_type": "stream",
     "text": [
      "(50000, 3072)\n"
     ]
    }
   ],
   "source": [
    "print(standardizedImagesValue.shape)"
   ],
   "metadata": {
    "collapsed": false,
    "pycharm": {
     "name": "#%%\n"
    }
   }
  },
  {
   "cell_type": "code",
   "execution_count": 41,
   "outputs": [
    {
     "name": "stdout",
     "output_type": "stream",
     "text": [
      "Input shape for NN:  3072\n"
     ]
    }
   ],
   "source": [
    "# find out input shape for NN, which is just a long vector\n",
    "inputShape = standardizedImagesValue.shape[1]\n",
    "print('Input shape for NN: ', inputShape)"
   ],
   "metadata": {
    "collapsed": false,
    "pycharm": {
     "name": "#%%\n"
    }
   }
  },
  {
   "cell_type": "markdown",
   "source": [
    "### Creating a Model\n"
   ],
   "metadata": {
    "collapsed": false,
    "pycharm": {
     "name": "#%% md\n"
    }
   }
  },
  {
   "cell_type": "markdown",
   "source": [
    "In Keras, one can choose between a Sequential model and a Graph model. Sequential models are the standard case. Graph models are for parallel networks and use the functional API (see Music/Speech tutorial).\n",
    "\n",
    "Here we create a sequential model with 2 fully connected (a.k.a. 'dense') layers containing 256 units each."
   ],
   "metadata": {
    "collapsed": false,
    "pycharm": {
     "name": "#%% md\n"
    }
   }
  },
  {
   "cell_type": "code",
   "execution_count": 42,
   "outputs": [
    {
     "name": "stdout",
     "output_type": "stream",
     "text": [
      "Model: \"sequential_3\"\n",
      "_________________________________________________________________\n",
      " Layer (type)                Output Shape              Param #   \n",
      "=================================================================\n",
      " dense_7 (Dense)             (None, 256)               786688    \n",
      "                                                                 \n",
      " dense_8 (Dense)             (None, 256)               65792     \n",
      "                                                                 \n",
      " dense_9 (Dense)             (None, 10)                2570      \n",
      "                                                                 \n",
      "=================================================================\n",
      "Total params: 855,050\n",
      "Trainable params: 855,050\n",
      "Non-trainable params: 0\n",
      "_________________________________________________________________\n"
     ]
    }
   ],
   "source": [
    "# simple Fully-connected network\n",
    "\n",
    "model = Sequential()\n",
    "model.add(Dense(256, input_dim=inputShape))\n",
    "model.add(Dense(256, activation='sigmoid'))\n",
    "model.add(Dense(len(uniqueImageLabelSet), activation='softmax'))\n",
    "\n",
    "model.summary()"
   ],
   "metadata": {
    "collapsed": false,
    "pycharm": {
     "name": "#%%\n"
    }
   }
  },
  {
   "cell_type": "markdown",
   "source": [
    "### Defining Loss Function and Optimizer Strategy: Gradient Descent"
   ],
   "metadata": {
    "collapsed": false,
    "pycharm": {
     "name": "#%% md\n"
    }
   }
  },
  {
   "cell_type": "code",
   "execution_count": 43,
   "outputs": [],
   "source": [
    "# Define a loss function\n",
    "loss = 'categorical_crossentropy'  # 'categorical_crossentropy' for multi-class problems\n",
    "\n",
    "# Optimizer = Stochastic Gradient Descent\n",
    "optimizer = 'sgd'\n",
    "\n",
    "# Compiling the model\n",
    "model.compile(loss=loss, optimizer=optimizer, metrics=['accuracy'])"
   ],
   "metadata": {
    "collapsed": false,
    "pycharm": {
     "name": "#%%\n"
    }
   }
  },
  {
   "cell_type": "markdown",
   "source": [
    "### Training the model on the input dataset"
   ],
   "metadata": {
    "collapsed": false,
    "pycharm": {
     "name": "#%% md\n"
    }
   }
  },
  {
   "cell_type": "code",
   "execution_count": 44,
   "outputs": [
    {
     "name": "stdout",
     "output_type": "stream",
     "text": [
      "Epoch 1/5\n"
     ]
    },
    {
     "name": "stderr",
     "output_type": "stream",
     "text": [
      "2022-06-28 21:20:49.449699: W tensorflow/core/framework/cpu_allocator_impl.cc:82] Allocation of 614400000 exceeds 10% of free system memory.\n"
     ]
    },
    {
     "name": "stdout",
     "output_type": "stream",
     "text": [
      "1563/1563 [==============================] - 11s 7ms/step - loss: 1.8211 - accuracy: 0.3607\n",
      "Epoch 2/5\n",
      "1563/1563 [==============================] - 10s 6ms/step - loss: 1.6942 - accuracy: 0.4138\n",
      "Epoch 3/5\n",
      "1563/1563 [==============================] - 10s 6ms/step - loss: 1.6417 - accuracy: 0.4335\n",
      "Epoch 4/5\n",
      "1563/1563 [==============================] - 10s 6ms/step - loss: 1.6023 - accuracy: 0.4505\n",
      "Epoch 5/5\n",
      "1563/1563 [==============================] - 10s 6ms/step - loss: 1.5694 - accuracy: 0.4631\n"
     ]
    },
    {
     "data": {
      "text/plain": "<keras.callbacks.History at 0x7fa914bc8b20>"
     },
     "execution_count": 44,
     "metadata": {},
     "output_type": "execute_result"
    }
   ],
   "source": [
    "# train the model\n",
    "model.fit(standardizedImagesValue, imageClasses, batch_size=batchSize, epochs=epochs)"
   ],
   "metadata": {
    "collapsed": false,
    "pycharm": {
     "name": "#%%\n"
    }
   }
  },
  {
   "cell_type": "markdown",
   "source": [
    "#### Verify accuracy on training set"
   ],
   "metadata": {
    "collapsed": false,
    "pycharm": {
     "name": "#%% md\n"
    }
   }
  },
  {
   "cell_type": "code",
   "execution_count": 45,
   "outputs": [
    {
     "name": "stderr",
     "output_type": "stream",
     "text": [
      "2022-06-28 21:21:41.164448: W tensorflow/core/framework/cpu_allocator_impl.cc:82] Allocation of 614400000 exceeds 10% of free system memory.\n"
     ]
    },
    {
     "name": "stdout",
     "output_type": "stream",
     "text": [
      "1563/1563 [==============================] - 6s 4ms/step\n",
      "Accuracy: 0.47762\n"
     ]
    }
   ],
   "source": [
    "predictions = model.predict(standardizedImagesValue)\n",
    "predictedClassesTrain = np.argmax(predictions, axis=1)\n",
    "trainImageLabelsForComparison = np.array(imageLabels)\n",
    "accuracyTrainingSet = accuracy_score(trainImageLabelsForComparison, predictedClassesTrain)\n",
    "\n",
    "print('Accuracy:', accuracyTrainingSet)"
   ],
   "metadata": {
    "collapsed": false,
    "pycharm": {
     "name": "#%%\n"
    }
   }
  },
  {
   "cell_type": "markdown",
   "source": [
    "### Testing with Test data set"
   ],
   "metadata": {
    "collapsed": false,
    "pycharm": {
     "name": "#%% md\n"
    }
   }
  },
  {
   "cell_type": "code",
   "execution_count": 46,
   "outputs": [
    {
     "name": "stdout",
     "output_type": "stream",
     "text": [
      "Imported 1 file.\n"
     ]
    }
   ],
   "source": [
    "path = '../data/cifar-10'\n",
    "files = glob.glob(os.path.join(path, 'test_batch'))\n",
    "print('Imported', len(files), 'file.')"
   ],
   "metadata": {
    "collapsed": false,
    "pycharm": {
     "name": "#%%\n"
    }
   }
  },
  {
   "cell_type": "code",
   "execution_count": 47,
   "outputs": [
    {
     "name": "stdout",
     "output_type": "stream",
     "text": [
      "50000 images 50000 imageNames 50000 imageLabels\n"
     ]
    }
   ],
   "source": [
    "testImages = np.empty([0, 3072], dtype=np.ubyte)\n",
    "testImageNames = []\n",
    "testImageLabels = []\n",
    "\n",
    "for filename in files:\n",
    "    fileData = unpickle(filename)\n",
    "    testImageNames.extend(fileData[b'filenames'])\n",
    "    testImageLabels.extend(fileData[b'labels'])\n",
    "    testImages = np.append(testImages, fileData[b'data'], axis=0)\n",
    "\n",
    "print(len(images), 'images', len(imageNames), 'imageNames', len(imageLabels), 'imageLabels')\n",
    "\n",
    "comparisonTestImageLabels = np.array(testImageLabels)\n",
    "testImageClasses = np_utils.to_categorical(testImageLabels)"
   ],
   "metadata": {
    "collapsed": false,
    "pycharm": {
     "name": "#%%\n"
    }
   }
  },
  {
   "cell_type": "code",
   "execution_count": 48,
   "outputs": [
    {
     "name": "stdout",
     "output_type": "stream",
     "text": [
      "Groundtruth Statistics:\n",
      "Label 0 : 1000\n",
      "Label 1 : 1000\n",
      "Label 2 : 1000\n",
      "Label 3 : 1000\n",
      "Label 4 : 1000\n",
      "Label 5 : 1000\n",
      "Label 6 : 1000\n",
      "Label 7 : 1000\n",
      "Label 8 : 1000\n",
      "Label 9 : 1000\n"
     ]
    }
   ],
   "source": [
    "print(\"Groundtruth Statistics:\")\n",
    "for v in set(testImageLabels):\n",
    "    print(\"Label\", v, \":\", testImageLabels.count(v))"
   ],
   "metadata": {
    "collapsed": false,
    "pycharm": {
     "name": "#%%\n"
    }
   }
  },
  {
   "cell_type": "markdown",
   "source": [
    "### Standardize Test Set"
   ],
   "metadata": {
    "collapsed": false,
    "pycharm": {
     "name": "#%% md\n"
    }
   }
  },
  {
   "cell_type": "code",
   "execution_count": 49,
   "outputs": [
    {
     "name": "stdout",
     "output_type": "stream",
     "text": [
      "121.52915475260417 64.06097012299574\n",
      "0.012807305642174001 0.9986109795368486\n"
     ]
    }
   ],
   "source": [
    "print(testImages.mean(), testImages.std())\n",
    "\n",
    "standardDeviationTestImages = (testImages - meanValue) / stddevValue\n",
    "\n",
    "print(standardDeviationTestImages.mean(), standardDeviationTestImages.std())"
   ],
   "metadata": {
    "collapsed": false,
    "pycharm": {
     "name": "#%%\n"
    }
   }
  },
  {
   "cell_type": "markdown",
   "source": [
    "### Make predictions"
   ],
   "metadata": {
    "collapsed": false,
    "pycharm": {
     "name": "#%% md\n"
    }
   }
  },
  {
   "cell_type": "code",
   "execution_count": 50,
   "outputs": [
    {
     "name": "stdout",
     "output_type": "stream",
     "text": [
      "313/313 [==============================] - 1s 3ms/step\n",
      "Accuracy: 0.4507\n"
     ]
    }
   ],
   "source": [
    "testPrediction = model.predict(standardDeviationTestImages)\n",
    "testPredictionClasses = np.argmax(testPrediction, axis=1)\n",
    "accuracyTestSet = accuracy_score(comparisonTestImageLabels, testPredictionClasses)\n",
    "print('Accuracy:', accuracyTestSet)"
   ],
   "metadata": {
    "collapsed": false,
    "pycharm": {
     "name": "#%%\n"
    }
   }
  },
  {
   "cell_type": "markdown",
   "source": [
    "## 2) CNN"
   ],
   "metadata": {
    "collapsed": false,
    "pycharm": {
     "name": "#%% md\n"
    }
   }
  },
  {
   "cell_type": "code",
   "execution_count": 51,
   "outputs": [],
   "source": [
    "nChannels = 3\n",
    "\n",
    "keras.backend.set_image_data_format('channels_last')\n",
    "trainImages = standardizedImagesValue.reshape(standardizedImagesValue.shape[0], 32, 32, nChannels)\n",
    "testImages = standardDeviationTestImages.reshape(standardDeviationTestImages.shape[0], 32, 32, nChannels)"
   ],
   "metadata": {
    "collapsed": false,
    "pycharm": {
     "name": "#%%\n"
    }
   }
  },
  {
   "cell_type": "code",
   "execution_count": 52,
   "outputs": [
    {
     "name": "stdout",
     "output_type": "stream",
     "text": [
      "(50000, 32, 32, 3)\n",
      "(10000, 32, 32, 3)\n"
     ]
    }
   ],
   "source": [
    "print(trainImages.shape)\n",
    "print(testImages.shape)"
   ],
   "metadata": {
    "collapsed": false,
    "pycharm": {
     "name": "#%%\n"
    }
   }
  },
  {
   "cell_type": "code",
   "execution_count": 53,
   "outputs": [
    {
     "name": "stdout",
     "output_type": "stream",
     "text": [
      "(32, 32, 3)\n"
     ]
    }
   ],
   "source": [
    "# we store the new shape of the images in the 'input_shape' variable.\n",
    "# take all dimensions except the 0th one (which is the number of images)\n",
    "\n",
    "inputShape = trainImages.shape[1:]\n",
    "print(inputShape)"
   ],
   "metadata": {
    "collapsed": false,
    "pycharm": {
     "name": "#%%\n"
    }
   }
  },
  {
   "cell_type": "markdown",
   "source": [
    "### Create the CNN model"
   ],
   "metadata": {
    "collapsed": false,
    "pycharm": {
     "name": "#%% md\n"
    }
   }
  },
  {
   "cell_type": "code",
   "execution_count": 54,
   "outputs": [
    {
     "name": "stdout",
     "output_type": "stream",
     "text": [
      "Model: \"sequential_4\"\n",
      "_________________________________________________________________\n",
      " Layer (type)                Output Shape              Param #   \n",
      "=================================================================\n",
      " conv2d_6 (Conv2D)           (None, 30, 30, 64)        1792      \n",
      "                                                                 \n",
      " max_pooling2d_4 (MaxPooling  (None, 15, 15, 64)       0         \n",
      " 2D)                                                             \n",
      "                                                                 \n",
      " dropout_4 (Dropout)         (None, 15, 15, 64)        0         \n",
      "                                                                 \n",
      " conv2d_7 (Conv2D)           (None, 13, 13, 64)        36928     \n",
      "                                                                 \n",
      " max_pooling2d_5 (MaxPooling  (None, 6, 6, 64)         0         \n",
      " 2D)                                                             \n",
      "                                                                 \n",
      " dropout_5 (Dropout)         (None, 6, 6, 64)          0         \n",
      "                                                                 \n",
      " conv2d_8 (Conv2D)           (None, 4, 4, 64)          36928     \n",
      "                                                                 \n",
      " flatten_2 (Flatten)         (None, 1024)              0         \n",
      "                                                                 \n",
      " dense_10 (Dense)            (None, 64)                65600     \n",
      "                                                                 \n",
      " dense_11 (Dense)            (None, 10)                650       \n",
      "                                                                 \n",
      "=================================================================\n",
      "Total params: 141,898\n",
      "Trainable params: 141,898\n",
      "Non-trainable params: 0\n",
      "_________________________________________________________________\n"
     ]
    }
   ],
   "source": [
    "def createMyModel():\n",
    "    model = Sequential()\n",
    "\n",
    "    model.add(Convolution2D(inputShape[0] * 2, (3, 3), input_shape=inputShape, activation='relu'))\n",
    "    model.add(keras.layers.MaxPooling2D((2, 2)))\n",
    "    model.add(Dropout(0.3))\n",
    "\n",
    "    model.add(Convolution2D(inputShape[0] * 2, (3, 3), activation='relu'))\n",
    "    model.add(keras.layers.MaxPooling2D((2, 2)))\n",
    "\n",
    "    model.add(Dropout(0.3))\n",
    "    model.add(Convolution2D(inputShape[0] * 2, (3, 3), activation='relu'))\n",
    "\n",
    "    model.add(keras.layers.Flatten())\n",
    "    model.add(keras.layers.Dense(inputShape[0] * 2, activation='relu'))\n",
    "    model.add(keras.layers.Dense(len(uniqueImageLabelSet), activation='softmax'))\n",
    "\n",
    "    return model\n",
    "\n",
    "\n",
    "model = createMyModel()\n",
    "model.summary()"
   ],
   "metadata": {
    "collapsed": false,
    "pycharm": {
     "name": "#%%\n"
    }
   }
  },
  {
   "cell_type": "markdown",
   "source": [
    "### Train the CNN"
   ],
   "metadata": {
    "collapsed": false,
    "pycharm": {
     "name": "#%% md\n"
    }
   }
  },
  {
   "cell_type": "code",
   "execution_count": 55,
   "outputs": [
    {
     "name": "stdout",
     "output_type": "stream",
     "text": [
      "Epoch 1/5\n",
      "1563/1563 [==============================] - 55s 35ms/step - loss: 1.8711 - accuracy: 0.3227\n",
      "Epoch 2/5\n",
      "1563/1563 [==============================] - 52s 33ms/step - loss: 1.5709 - accuracy: 0.4343\n",
      "Epoch 3/5\n",
      "1563/1563 [==============================] - 52s 33ms/step - loss: 1.4647 - accuracy: 0.4761\n",
      "Epoch 4/5\n",
      "1563/1563 [==============================] - 53s 34ms/step - loss: 1.3849 - accuracy: 0.5068\n",
      "Epoch 5/5\n",
      "1563/1563 [==============================] - 53s 34ms/step - loss: 1.3187 - accuracy: 0.5323\n"
     ]
    }
   ],
   "source": [
    "# Compiling the model\n",
    "loss = 'categorical_crossentropy'\n",
    "optimizer = 'sgd'\n",
    "\n",
    "model.compile(loss=loss, optimizer=optimizer, metrics=['accuracy'])\n",
    "\n",
    "history = model.fit(trainImages, imageClasses, batch_size=batchSize, epochs=epochs)"
   ],
   "metadata": {
    "collapsed": false,
    "pycharm": {
     "name": "#%%\n"
    }
   }
  },
  {
   "cell_type": "markdown",
   "source": [
    "### Verify accuracy on training set"
   ],
   "metadata": {
    "collapsed": false,
    "pycharm": {
     "name": "#%% md\n"
    }
   },
   "execution_count": 72
  },
  {
   "cell_type": "code",
   "execution_count": 56,
   "outputs": [
    {
     "name": "stdout",
     "output_type": "stream",
     "text": [
      "313/313 [==============================] - 3s 10ms/step\n",
      "Accuracy: 0.5542\n"
     ]
    }
   ],
   "source": [
    "# verify accuracy on test set\n",
    "prediction = model.predict(testImages)\n",
    "predictedClasses = np.argmax(prediction, axis=1)\n",
    "accuracyOnTestSet = accuracy_score(comparisonTestImageLabels, predictedClasses)\n",
    "print('Accuracy:', accuracyOnTestSet)"
   ],
   "metadata": {
    "collapsed": false,
    "pycharm": {
     "name": "#%%\n"
    }
   }
  },
  {
   "cell_type": "markdown",
   "source": [
    "### Plotting the training curve"
   ],
   "metadata": {
    "collapsed": false,
    "pycharm": {
     "name": "#%% md\n"
    }
   }
  },
  {
   "cell_type": "code",
   "execution_count": 57,
   "outputs": [
    {
     "data": {
      "text/plain": "dict_keys(['loss', 'accuracy'])"
     },
     "execution_count": 57,
     "metadata": {},
     "output_type": "execute_result"
    }
   ],
   "source": [
    "hist = history.history\n",
    "hist.keys()"
   ],
   "metadata": {
    "collapsed": false,
    "pycharm": {
     "name": "#%%\n"
    }
   }
  },
  {
   "cell_type": "code",
   "execution_count": 58,
   "outputs": [
    {
     "data": {
      "text/plain": "<matplotlib.legend.Legend at 0x7fa91433bac0>"
     },
     "execution_count": 58,
     "metadata": {},
     "output_type": "execute_result"
    },
    {
     "data": {
      "text/plain": "<Figure size 720x432 with 1 Axes>",
      "image/png": "[encoded data removed]"
     },
     "metadata": {
      "needs_background": "light"
     },
     "output_type": "display_data"
    }
   ],
   "source": [
    "colors = {'loss': 'r', 'accuracy': 'b'}\n",
    "plt.figure(figsize=(10, 6))\n",
    "plt.title(\"Training Curve\")\n",
    "plt.xlabel(\"Epoch\")\n",
    "\n",
    "for measure in hist.keys():\n",
    "    color = colors[measure]\n",
    "    plt.plot(range(1, epochs + 1), hist[measure], color + '-', label=measure)  # use last 2 values to draw line\n",
    "\n",
    "plt.legend(loc='upper right', scatterpoints=1, frameon=False)"
   ],
   "metadata": {
    "collapsed": false,
    "pycharm": {
     "name": "#%%\n"
    }
   }
  },
  {
   "cell_type": "markdown",
   "source": [
    "## Data Augmentation"
   ],
   "metadata": {
    "collapsed": false,
    "pycharm": {
     "name": "#%% md\n"
    }
   }
  },
  {
   "cell_type": "code",
   "execution_count": 59,
   "outputs": [
    {
     "name": "stdout",
     "output_type": "stream",
     "text": [
      "Epoch 1/5\n",
      "1563/1563 [==============================] - 53s 33ms/step - loss: 2.1061 - accuracy: 0.2192\n",
      "Epoch 2/5\n",
      "1563/1563 [==============================] - 55s 35ms/step - loss: 1.9235 - accuracy: 0.2872\n",
      "Epoch 3/5\n",
      "1563/1563 [==============================] - 57s 36ms/step - loss: 1.8670 - accuracy: 0.3089\n",
      "Epoch 4/5\n",
      "1563/1563 [==============================] - 53s 34ms/step - loss: 1.8279 - accuracy: 0.3239\n",
      "Epoch 5/5\n",
      "1563/1563 [==============================] - 61s 39ms/step - loss: 1.7928 - accuracy: 0.3374\n"
     ]
    }
   ],
   "source": [
    "datagen = ImageDataGenerator(\n",
    "    rotation_range=20,\n",
    "    width_shift_range=0.2,\n",
    "    height_shift_range=0.2,\n",
    "    zoom_range=0.2,\n",
    "    horizontal_flip=True)\n",
    "\n",
    "# recreate and recompile the model (otherwise we continue learning)\n",
    "model = createMyModel()\n",
    "model.compile(loss=loss, optimizer=optimizer, metrics=['accuracy'])\n",
    "\n",
    "# fits the model on batches with real-time data augmentation:\n",
    "history = model.fit(datagen.flow(trainImages, imageClasses, batch_size=batchSize),\n",
    "                    epochs=epochs)"
   ],
   "metadata": {
    "collapsed": false,
    "pycharm": {
     "name": "#%%\n"
    }
   }
  },
  {
   "cell_type": "code",
   "execution_count": 60,
   "outputs": [
    {
     "name": "stdout",
     "output_type": "stream",
     "text": [
      "313/313 [==============================] - 4s 10ms/step\n",
      "Accuracy 0.3371\n"
     ]
    }
   ],
   "source": [
    "# verify accuracy on test set with augmentation\n",
    "predictions = model.predict(testImages)\n",
    "predicatedClasses = np.argmax(predictions, axis=1)\n",
    "accuracy = accuracy_score(comparisonTestImageLabels, predicatedClasses)\n",
    "print('Accuracy', accuracy)"
   ],
   "metadata": {
    "collapsed": false,
    "pycharm": {
     "name": "#%%\n"
    }
   }
  },
  {
   "cell_type": "markdown",
   "source": [
    "### Plotting the training curve with data augmentation"
   ],
   "metadata": {
    "collapsed": false,
    "pycharm": {
     "name": "#%% md\n"
    }
   }
  },
  {
   "cell_type": "code",
   "execution_count": 61,
   "outputs": [
    {
     "data": {
      "text/plain": "<matplotlib.legend.Legend at 0x7fa91414d8b0>"
     },
     "execution_count": 61,
     "metadata": {},
     "output_type": "execute_result"
    },
    {
     "data": {
      "text/plain": "<Figure size 720x432 with 1 Axes>",
      "image/png": "[encoded data removed]"
     },
     "metadata": {
      "needs_background": "light"
     },
     "output_type": "display_data"
    }
   ],
   "source": [
    "hist = history.history\n",
    "\n",
    "plt.figure(figsize=(10, 6))\n",
    "plt.title(\"Training Curve\")\n",
    "plt.xlabel(\"Epoch\")\n",
    "\n",
    "for measure in hist.keys():\n",
    "    color = colors[measure]\n",
    "    plt.plot(range(1, epochs + 1), hist[measure], color + '-', label=measure)\n",
    "\n",
    "plt.legend(loc='upper right', scatterpoints=1, frameon=False)"
   ],
   "metadata": {
    "collapsed": false,
    "pycharm": {
     "name": "#%%\n"
    }
   }
  },
  {
   "cell_type": "markdown",
   "source": [
    "## Analysis"
   ],
   "metadata": {
    "collapsed": false,
    "pycharm": {
     "name": "#%% md\n"
    }
   }
  }
 ],
 "metadata": {
  "kernelspec": {
   "display_name": "Python 3",
   "language": "python",
   "name": "python3"
  },
  "language_info": {
   "codemirror_mode": {
    "name": "ipython",
    "version": 2
   },
   "file_extension": ".py",
   "mimetype": "text/x-python",
   "name": "python",
   "nbconvert_exporter": "python",
   "pygments_lexer": "ipython2",
   "version": "2.7.6"
  }
 },
 "nbformat": 4,
 "nbformat_minor": 0
}