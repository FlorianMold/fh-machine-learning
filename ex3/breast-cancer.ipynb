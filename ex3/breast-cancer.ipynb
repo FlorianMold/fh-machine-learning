{
 "cells": [
  {
   "cell_type": "markdown",
   "source": [
    "# Breast cancer"
   ],
   "metadata": {
    "collapsed": false,
    "pycharm": {
     "name": "#%% md\n"
    }
   }
  },
  {
   "cell_type": "markdown",
   "source": [
    "## Import dependencies"
   ],
   "metadata": {
    "collapsed": false,
    "pycharm": {
     "name": "#%% md\n"
    }
   }
  },
  {
   "cell_type": "code",
   "execution_count": 55,
   "outputs": [],
   "source": [
    "import datetime\n",
    "import glob\n",
    "import os\n",
    "import time\n",
    "from collections import deque\n",
    "from sklearn.utils import shuffle\n",
    "\n",
    "from IPython.core.display_functions import display\n",
    "from progressbar import ProgressBar\n",
    "\n",
    "import librosa\n",
    "import numpy as np\n",
    "import pandas as pd\n",
    "from scipy.stats import skew, kurtosis\n",
    "from sklearn import preprocessing\n",
    "from sklearn.ensemble import RandomForestClassifier\n",
    "from sklearn.linear_model import Perceptron\n",
    "from sklearn.metrics import f1_score, accuracy_score, confusion_matrix\n",
    "from sklearn.model_selection import train_test_split\n",
    "from sklearn.neighbors import KNeighborsClassifier\n",
    "from sklearn.pipeline import make_pipeline\n",
    "from sklearn.preprocessing import StandardScaler\n",
    "from sklearn.svm import SVC\n",
    "from sklearn.tree import DecisionTreeClassifier\n",
    "\n",
    "# disable all warnings\n",
    "import warnings\n",
    "\n",
    "warnings.filterwarnings('ignore')\n",
    "\n",
    "matrikelNumber = 11776836\n",
    "isKaggle = False"
   ],
   "metadata": {
    "collapsed": false,
    "pycharm": {
     "name": "#%%\n"
    }
   }
  },
  {
   "cell_type": "markdown",
   "source": [
    "## Classifiers"
   ],
   "metadata": {
    "collapsed": false,
    "pycharm": {
     "name": "#%% md\n"
    }
   }
  },
  {
   "cell_type": "markdown",
   "source": [
    "### KNN"
   ],
   "metadata": {
    "collapsed": false,
    "pycharm": {
     "name": "#%% md\n"
    }
   }
  },
  {
   "cell_type": "code",
   "execution_count": 56,
   "outputs": [],
   "source": [
    "def kNearestNeighbours(datasetName, kNeighbours, XTrain, XTest, yTrain, yTest):\n",
    "    results = []\n",
    "\n",
    "    for k in kNeighbours:\n",
    "        print(datasetName)\n",
    "        print('kNN with', k, 'neighbours')\n",
    "        knnClassifier = KNeighborsClassifier(n_neighbors=k, algorithm='kd_tree')\n",
    "\n",
    "        # Train the classifier\n",
    "        startTime = time.time()\n",
    "        knnClassifier.fit(XTrain, yTrain.ravel())\n",
    "        endTime = time.time()\n",
    "        trainTime = endTime - startTime\n",
    "\n",
    "        # Predict\n",
    "        startTime = time.time()\n",
    "        predicted = knnClassifier.predict(XTest)\n",
    "        endTime = time.time()\n",
    "        predictionTime = endTime - startTime\n",
    "\n",
    "        # Effectiveness measurement\n",
    "        accuracyScore = accuracy_score(yTest, predicted)\n",
    "        f1Score = f1_score(yTest, predicted, average='weighted')\n",
    "\n",
    "        formattedTrainTime = str(\"{:.3f}s\".format(trainTime))\n",
    "        formattedPredictionTime = str(\"{:.3f}s\".format(predictionTime))\n",
    "        formattedAccuracyScore = str(\"{:.3f}%\".format(accuracyScore * 100))\n",
    "        formattedF1Score = str(\"{:.3f}%\".format(f1Score * 100))\n",
    "\n",
    "        print('Training time:', formattedTrainTime)\n",
    "        print('Testing time:', formattedPredictionTime)\n",
    "        print()\n",
    "\n",
    "        print('Accuracy:', formattedAccuracyScore)\n",
    "        print('F1 score:', formattedF1Score)\n",
    "        print('------------------------------------')\n",
    "\n",
    "        result = {\n",
    "            'datasetName': datasetName,\n",
    "            'algorithmName': 'kNN with \"' + str(k) + '\" neighbours',\n",
    "            'neighbours': k,\n",
    "            'accuracyScore': accuracyScore,\n",
    "            'f1Score': f1Score,\n",
    "            'trainTime': formattedTrainTime,\n",
    "            'predictionTime': formattedPredictionTime,\n",
    "            'yTestPredicted': predicted,\n",
    "            'XTrain': XTrain,\n",
    "            'XTest': XTest,\n",
    "            'yTrain': yTrain,\n",
    "            'yTest': yTest,\n",
    "            'classifier': knnClassifier,\n",
    "        }\n",
    "\n",
    "        results.append(result)\n",
    "\n",
    "    return results"
   ],
   "metadata": {
    "collapsed": false,
    "pycharm": {
     "name": "#%%\n"
    }
   }
  },
  {
   "cell_type": "markdown",
   "source": [
    "### Decision Tree"
   ],
   "metadata": {
    "collapsed": false,
    "pycharm": {
     "name": "#%% md\n"
    }
   }
  },
  {
   "cell_type": "code",
   "execution_count": 57,
   "outputs": [],
   "source": [
    "def decisionTree(datasetName, maxFeatureValues, XTrain, XTest, yTrain, yTest):\n",
    "    results = []\n",
    "\n",
    "    for maxFeatures in maxFeatureValues:\n",
    "        print(datasetName)\n",
    "        print('Decision Tree with max features', maxFeatures)\n",
    "\n",
    "        decisionTreeClassifier = DecisionTreeClassifier(max_features=maxFeatures, random_state=matrikelNumber)\n",
    "\n",
    "        # Train the classifier\n",
    "        startTime = time.time()\n",
    "        decisionTreeClassifier.fit(XTrain, yTrain.ravel())\n",
    "        endTime = time.time()\n",
    "        trainTime = endTime - startTime\n",
    "\n",
    "        # Predict\n",
    "        startTime = time.time()\n",
    "        predicted = decisionTreeClassifier.predict(XTest)\n",
    "        endTime = time.time()\n",
    "        predictionTime = endTime - startTime\n",
    "\n",
    "        # Effectiveness measurement\n",
    "        accuracyScore = accuracy_score(yTest, predicted)\n",
    "        f1Score = f1_score(yTest, predicted, average='weighted')\n",
    "\n",
    "        formattedTrainTime = str(\"{:.3f}s\".format(trainTime))\n",
    "        formattedPredictionTime = str(\"{:.3f}s\".format(predictionTime))\n",
    "        formattedAccuracyScore = str(\"{:.3f}%\".format(accuracyScore * 100))\n",
    "        formattedF1Score = str(\"{:.3f}%\".format(f1Score * 100))\n",
    "\n",
    "        print('Training time:', formattedTrainTime)\n",
    "        print('Testing time:', formattedPredictionTime)\n",
    "        print()\n",
    "\n",
    "        print('Accuracy:', formattedAccuracyScore)\n",
    "        print('F1 score:', formattedF1Score)\n",
    "        print('------------------------------------')\n",
    "\n",
    "        result = {\n",
    "            'datasetName': datasetName,\n",
    "            'algorithmName': 'Decision Tree with \"' + str(maxFeatures) + '\" max features',\n",
    "            'maxFeatures': maxFeatures,\n",
    "            'accuracyScore': accuracyScore,\n",
    "            'f1Score': f1Score,\n",
    "            'trainTime': formattedTrainTime,\n",
    "            'predictionTime': formattedPredictionTime,\n",
    "            'yTestPredicted': predicted,\n",
    "            'XTrain': XTrain,\n",
    "            'XTest': XTest,\n",
    "            'yTrain': yTrain,\n",
    "            'yTest': yTest,\n",
    "            'classifier': decisionTreeClassifier,\n",
    "        }\n",
    "\n",
    "        results.append(result)\n",
    "\n",
    "    return results"
   ],
   "metadata": {
    "collapsed": false,
    "pycharm": {
     "name": "#%%\n"
    }
   }
  },
  {
   "cell_type": "markdown",
   "source": [
    "### Support Vector Machine"
   ],
   "metadata": {
    "collapsed": false,
    "pycharm": {
     "name": "#%% md\n"
    }
   }
  },
  {
   "cell_type": "code",
   "execution_count": 58,
   "outputs": [],
   "source": [
    "def supportVectorMachine(datasetName, XTrain, XTest, yTrain, yTest):\n",
    "    print(datasetName)\n",
    "    print('Support Vector Machine')\n",
    "\n",
    "    results = []\n",
    "\n",
    "    svmClassifier = make_pipeline(StandardScaler(), SVC(random_state=matrikelNumber))\n",
    "\n",
    "    # Train the classifier\n",
    "    startTime = time.time()\n",
    "    svmClassifier.fit(XTrain, yTrain.ravel())\n",
    "    endTime = time.time()\n",
    "    trainTime = endTime - startTime\n",
    "\n",
    "    # Predict\n",
    "    startTime = time.time()\n",
    "    predicted = svmClassifier.predict(XTest)\n",
    "    endTime = time.time()\n",
    "    predictionTime = endTime - startTime\n",
    "\n",
    "    # Effectiveness measurement\n",
    "    accuracyScore = accuracy_score(yTest, predicted)\n",
    "    f1Score = f1_score(yTest, predicted, average='weighted')\n",
    "\n",
    "    formattedTrainTime = str(\"{:.3f}s\".format(trainTime))\n",
    "    formattedPredictionTime = str(\"{:.3f}s\".format(predictionTime))\n",
    "    formattedAccuracyScore = str(\"{:.3f}%\".format(accuracyScore * 100))\n",
    "    formattedF1Score = str(\"{:.3f}%\".format(f1Score * 100))\n",
    "\n",
    "    print('Training time:', formattedTrainTime)\n",
    "    print('Testing time:', formattedPredictionTime)\n",
    "    print()\n",
    "\n",
    "    print('Accuracy:', formattedAccuracyScore)\n",
    "    print('F1 score:', formattedF1Score)\n",
    "    print('------------------------------------')\n",
    "\n",
    "    result = {\n",
    "        'datasetName': datasetName,\n",
    "        'algorithmName': 'SVM',\n",
    "        'accuracyScore': accuracyScore,\n",
    "        'f1Score': f1Score,\n",
    "        'trainTime': formattedTrainTime,\n",
    "        'predictionTime': formattedPredictionTime,\n",
    "        'yTestPredicted': predicted,\n",
    "        'XTrain': XTrain,\n",
    "        'XTest': XTest,\n",
    "        'yTrain': yTrain,\n",
    "        'yTest': yTest,\n",
    "        'classifier': svmClassifier,\n",
    "    }\n",
    "\n",
    "    results.append(result)\n",
    "\n",
    "    return results"
   ],
   "metadata": {
    "collapsed": false,
    "pycharm": {
     "name": "#%%\n"
    }
   }
  },
  {
   "cell_type": "markdown",
   "source": [
    "### Random forests"
   ],
   "metadata": {
    "collapsed": false,
    "pycharm": {
     "name": "#%% md\n"
    }
   }
  },
  {
   "cell_type": "code",
   "execution_count": 59,
   "outputs": [],
   "source": [
    "def randomForest(datasetName, numberOfTrees, maxFeatureValues, XTrain, XTest, yTrain, yTest):\n",
    "    results = []\n",
    "\n",
    "    for numberOfTreeElements in numberOfTrees:\n",
    "        for maxFeatureValue in maxFeatureValues:\n",
    "            print(datasetName)\n",
    "            print('Random forest with', numberOfTreeElements, 'trees and', maxFeatureValue, 'max features')\n",
    "\n",
    "            randomForestClassifier = RandomForestClassifier(\n",
    "                n_estimators=numberOfTreeElements,\n",
    "                max_features=maxFeatureValue,\n",
    "                random_state=matrikelNumber\n",
    "            )\n",
    "\n",
    "            # Train the classifier\n",
    "            startTime = time.time()\n",
    "            randomForestClassifier.fit(XTrain, yTrain.ravel())\n",
    "            endTime = time.time()\n",
    "            trainTime = endTime - startTime\n",
    "\n",
    "            # Predict\n",
    "            startTime = time.time()\n",
    "            predicted = randomForestClassifier.predict(XTest)\n",
    "            endTime = time.time()\n",
    "            predictionTime = endTime - startTime\n",
    "\n",
    "            # Effectiveness measurement\n",
    "            accuracyScore = accuracy_score(yTest, predicted)\n",
    "            f1Score = f1_score(yTest, predicted, average='weighted')\n",
    "\n",
    "            formattedTrainTime = str(\"{:.3f}s\".format(trainTime))\n",
    "            formattedPredictionTime = str(\"{:.3f}s\".format(predictionTime))\n",
    "            formattedAccuracyScore = str(\"{:.3f}%\".format(accuracyScore * 100))\n",
    "            formattedF1Score = str(\"{:.3f}%\".format(f1Score * 100))\n",
    "\n",
    "            print('Training time:', formattedTrainTime)\n",
    "            print('Testing time:', formattedPredictionTime)\n",
    "            print()\n",
    "\n",
    "            print('Accuracy:', formattedAccuracyScore)\n",
    "            print('F1 score:', formattedF1Score)\n",
    "            print('------------------------------------')\n",
    "\n",
    "            result = {\n",
    "                'datasetName': datasetName,\n",
    "                'algorithmName': 'Random F. (\"' + str(numberOfTreeElements) + '\" trees, \"' + str(\n",
    "                    maxFeatureValue) + '\" max feature)',\n",
    "                'numberOfTreeElements': numberOfTreeElements,\n",
    "                'maxFeatureValue': maxFeatureValue,\n",
    "                'accuracyScore': accuracyScore,\n",
    "                'f1Score': f1Score,\n",
    "                'trainTime': formattedTrainTime,\n",
    "                'predictionTime': formattedPredictionTime,\n",
    "                'yTestPredicted': predicted,\n",
    "                'XTrain': XTrain,\n",
    "                'XTest': XTest,\n",
    "                'yTrain': yTrain,\n",
    "                'yTest': yTest,\n",
    "                'classifier': randomForestClassifier,\n",
    "            }\n",
    "\n",
    "            results.append(result)\n",
    "\n",
    "    return results"
   ],
   "metadata": {
    "collapsed": false,
    "pycharm": {
     "name": "#%%\n"
    }
   }
  },
  {
   "cell_type": "markdown",
   "source": [
    "## Load dataset"
   ],
   "metadata": {
    "collapsed": false,
    "pycharm": {
     "name": "#%% md\n"
    }
   }
  },
  {
   "cell_type": "code",
   "execution_count": 60,
   "outputs": [],
   "source": [
    "datasetName = 'Breast Cancer'\n",
    "\n",
    "# Load training dataset\n",
    "filePathTrainDataset = './data/breast-cancer/breast-cancer-diagnostic.shuf.lrn.csv'\n",
    "if isKaggle:\n",
    "    filePathTrainDataset = '/kaggle/input/mse-bb-2-ss2022-mle-breastcancer/breast-cancer-diagnostic.shuf.lrn.csv'\n",
    "\n",
    "breastCancerTrain = pd.read_csv(filePathTrainDataset, sep=',')\n",
    "\n",
    "# Split data in input features (X) and target (y) feature\n",
    "trainDataX = breastCancerTrain.loc[:, 'radiusMean':]\n",
    "trainDataY = breastCancerTrain.loc[:, 'class']\n",
    "\n",
    "# Load test dataset\n",
    "filePathTestData = './data/breast-cancer/breast-cancer-diagnostic.shuf.tes.csv'\n",
    "if isKaggle:\n",
    "    filePathTestData = '/kaggle/input/mse-bb-2-ss2022-mle-breastcancer/breast-cancer-diagnostic.shuf.tes.csv'\n",
    "\n",
    "breastCancerTest = pd.read_csv(filePathTestData, sep=',')\n",
    "\n",
    "breastCancerTestX = breastCancerTest.loc[:, 'radiusMean':]"
   ],
   "metadata": {
    "collapsed": false,
    "pycharm": {
     "name": "#%%\n"
    }
   }
  },
  {
   "cell_type": "markdown",
   "source": [
    "## Apply Classifiers"
   ],
   "metadata": {
    "collapsed": false,
    "pycharm": {
     "name": "#%% md\n"
    }
   }
  },
  {
   "cell_type": "code",
   "execution_count": 61,
   "outputs": [
    {
     "name": "stdout",
     "output_type": "stream",
     "text": [
      "Breast Cancer\n",
      "kNN with 2 neighbours\n",
      "Training time: 0.002s\n",
      "Testing time: 0.005s\n",
      "\n",
      "Accuracy: 90.526%\n",
      "F1 score: 90.468%\n",
      "------------------------------------\n",
      "Breast Cancer\n",
      "kNN with 4 neighbours\n",
      "Training time: 0.002s\n",
      "Testing time: 0.005s\n",
      "\n",
      "Accuracy: 90.526%\n",
      "F1 score: 90.581%\n",
      "------------------------------------\n",
      "Breast Cancer\n",
      "kNN with 6 neighbours\n",
      "Training time: 0.001s\n",
      "Testing time: 0.004s\n",
      "\n",
      "Accuracy: 90.526%\n",
      "F1 score: 90.468%\n",
      "------------------------------------\n",
      "Breast Cancer\n",
      "Decision Tree with max features None\n",
      "Training time: 0.003s\n",
      "Testing time: 0.001s\n",
      "\n",
      "Accuracy: 96.842%\n",
      "F1 score: 96.860%\n",
      "------------------------------------\n",
      "Breast Cancer\n",
      "Decision Tree with max features sqrt\n",
      "Training time: 0.002s\n",
      "Testing time: 0.001s\n",
      "\n",
      "Accuracy: 89.474%\n",
      "F1 score: 89.852%\n",
      "------------------------------------\n",
      "Breast Cancer\n",
      "Decision Tree with max features log2\n",
      "Training time: 0.001s\n",
      "Testing time: 0.001s\n",
      "\n",
      "Accuracy: 91.579%\n",
      "F1 score: 91.754%\n",
      "------------------------------------\n",
      "Breast Cancer\n",
      "Support Vector Machine\n",
      "Training time: 0.003s\n",
      "Testing time: 0.001s\n",
      "\n",
      "Accuracy: 100.000%\n",
      "F1 score: 100.000%\n",
      "------------------------------------\n",
      "Breast Cancer\n",
      "Random forest with 10 trees and sqrt max features\n",
      "Training time: 0.015s\n",
      "Testing time: 0.003s\n",
      "\n",
      "Accuracy: 97.895%\n",
      "F1 score: 97.918%\n",
      "------------------------------------\n",
      "Breast Cancer\n",
      "Random forest with 10 trees and log2 max features\n",
      "Training time: 0.013s\n",
      "Testing time: 0.002s\n",
      "\n",
      "Accuracy: 94.737%\n",
      "F1 score: 94.767%\n",
      "------------------------------------\n",
      "Breast Cancer\n",
      "Random forest with 50 trees and sqrt max features\n",
      "Training time: 0.055s\n",
      "Testing time: 0.007s\n",
      "\n",
      "Accuracy: 94.737%\n",
      "F1 score: 94.869%\n",
      "------------------------------------\n",
      "Breast Cancer\n",
      "Random forest with 50 trees and log2 max features\n",
      "Training time: 0.054s\n",
      "Testing time: 0.007s\n",
      "\n",
      "Accuracy: 95.789%\n",
      "F1 score: 95.877%\n",
      "------------------------------------\n",
      "Breast Cancer\n",
      "Random forest with 100 trees and sqrt max features\n",
      "Training time: 0.109s\n",
      "Testing time: 0.014s\n",
      "\n",
      "Accuracy: 93.684%\n",
      "F1 score: 93.867%\n",
      "------------------------------------\n",
      "Breast Cancer\n",
      "Random forest with 100 trees and log2 max features\n",
      "Training time: 0.110s\n",
      "Testing time: 0.014s\n",
      "\n",
      "Accuracy: 93.684%\n",
      "F1 score: 93.867%\n",
      "------------------------------------\n"
     ]
    }
   ],
   "source": [
    "testSplitSize = 0.33\n",
    "\n",
    "kNNNeighbours = [2, 4, 6]\n",
    "decisionTreeMaxFeatureValues = [None, 'sqrt', 'log2']\n",
    "randomForestTrees = [10, 50, 100]\n",
    "randomForestMaxFeatureValues = ['sqrt', 'log2']\n",
    "breastCancerResults = []\n",
    "\n",
    "X, y = shuffle(trainDataX, trainDataY, random_state=matrikelNumber)\n",
    "\n",
    "trainData, testData, trainLabels, testLabels = train_test_split(\n",
    "    X,\n",
    "    y,\n",
    "    test_size=testSplitSize,\n",
    "    random_state=matrikelNumber\n",
    ")\n",
    "\n",
    "kNNResults = kNearestNeighbours(\n",
    "    datasetName,\n",
    "    kNNNeighbours,\n",
    "    trainData,\n",
    "    testData,\n",
    "    trainLabels,\n",
    "    testLabels\n",
    ")\n",
    "breastCancerResults.extend(kNNResults)\n",
    "\n",
    "decisionTreeResults = decisionTree(\n",
    "    datasetName,\n",
    "    decisionTreeMaxFeatureValues,\n",
    "    trainData,\n",
    "    testData,\n",
    "    trainLabels,\n",
    "    testLabels\n",
    ")\n",
    "breastCancerResults.extend(decisionTreeResults)\n",
    "\n",
    "supportVectorMachineResults = supportVectorMachine(\n",
    "    datasetName,\n",
    "    trainData,\n",
    "    testData,\n",
    "    trainLabels,\n",
    "    testLabels\n",
    ")\n",
    "breastCancerResults.extend(supportVectorMachineResults)\n",
    "\n",
    "randomForestResults = randomForest(\n",
    "    datasetName,\n",
    "    randomForestTrees,\n",
    "    randomForestMaxFeatureValues,\n",
    "    trainData,\n",
    "    testData,\n",
    "    trainLabels,\n",
    "    testLabels\n",
    ")\n",
    "breastCancerResults.extend(randomForestResults)"
   ],
   "metadata": {
    "collapsed": false,
    "pycharm": {
     "name": "#%%\n"
    }
   }
  },
  {
   "cell_type": "markdown",
   "source": [
    "## Display results"
   ],
   "metadata": {
    "collapsed": false,
    "pycharm": {
     "name": "#%% md\n"
    }
   }
  },
  {
   "cell_type": "code",
   "execution_count": 62,
   "outputs": [
    {
     "data": {
      "text/plain": "                                  algorithmName  accuracyScore   f1Score  \\\n0                       kNN with \"2\" neighbours       0.905263  0.904675   \n1                       kNN with \"4\" neighbours       0.905263  0.905811   \n2                       kNN with \"6\" neighbours       0.905263  0.904675   \n3        Decision Tree with \"None\" max features       0.968421  0.968604   \n4        Decision Tree with \"sqrt\" max features       0.894737  0.898516   \n5        Decision Tree with \"log2\" max features       0.915789  0.917540   \n6                                           SVM       1.000000  1.000000   \n7    Random F. (\"10\" trees, \"sqrt\" max feature)       0.978947  0.979182   \n8    Random F. (\"10\" trees, \"log2\" max feature)       0.947368  0.947673   \n9    Random F. (\"50\" trees, \"sqrt\" max feature)       0.947368  0.948688   \n10   Random F. (\"50\" trees, \"log2\" max feature)       0.957895  0.958770   \n11  Random F. (\"100\" trees, \"sqrt\" max feature)       0.936842  0.938673   \n12  Random F. (\"100\" trees, \"log2\" max feature)       0.936842  0.938673   \n\n   trainTime predictionTime  \n0     0.002s         0.005s  \n1     0.002s         0.005s  \n2     0.001s         0.004s  \n3     0.003s         0.001s  \n4     0.002s         0.001s  \n5     0.001s         0.001s  \n6     0.003s         0.001s  \n7     0.015s         0.003s  \n8     0.013s         0.002s  \n9     0.055s         0.007s  \n10    0.054s         0.007s  \n11    0.109s         0.014s  \n12    0.110s         0.014s  ",
      "text/html": "<div>\n<style scoped>\n    .dataframe tbody tr th:only-of-type {\n        vertical-align: middle;\n    }\n\n    .dataframe tbody tr th {\n        vertical-align: top;\n    }\n\n    .dataframe thead th {\n        text-align: right;\n    }\n</style>\n<table border=\"1\" class=\"dataframe\">\n  <thead>\n    <tr style=\"text-align: right;\">\n      <th></th>\n      <th>algorithmName</th>\n      <th>accuracyScore</th>\n      <th>f1Score</th>\n      <th>trainTime</th>\n      <th>predictionTime</th>\n    </tr>\n  </thead>\n  <tbody>\n    <tr>\n      <th>0</th>\n      <td>kNN with \"2\" neighbours</td>\n      <td>0.905263</td>\n      <td>0.904675</td>\n      <td>0.002s</td>\n      <td>0.005s</td>\n    </tr>\n    <tr>\n      <th>1</th>\n      <td>kNN with \"4\" neighbours</td>\n      <td>0.905263</td>\n      <td>0.905811</td>\n      <td>0.002s</td>\n      <td>0.005s</td>\n    </tr>\n    <tr>\n      <th>2</th>\n      <td>kNN with \"6\" neighbours</td>\n      <td>0.905263</td>\n      <td>0.904675</td>\n      <td>0.001s</td>\n      <td>0.004s</td>\n    </tr>\n    <tr>\n      <th>3</th>\n      <td>Decision Tree with \"None\" max features</td>\n      <td>0.968421</td>\n      <td>0.968604</td>\n      <td>0.003s</td>\n      <td>0.001s</td>\n    </tr>\n    <tr>\n      <th>4</th>\n      <td>Decision Tree with \"sqrt\" max features</td>\n      <td>0.894737</td>\n      <td>0.898516</td>\n      <td>0.002s</td>\n      <td>0.001s</td>\n    </tr>\n    <tr>\n      <th>5</th>\n      <td>Decision Tree with \"log2\" max features</td>\n      <td>0.915789</td>\n      <td>0.917540</td>\n      <td>0.001s</td>\n      <td>0.001s</td>\n    </tr>\n    <tr>\n      <th>6</th>\n      <td>SVM</td>\n      <td>1.000000</td>\n      <td>1.000000</td>\n      <td>0.003s</td>\n      <td>0.001s</td>\n    </tr>\n    <tr>\n      <th>7</th>\n      <td>Random F. (\"10\" trees, \"sqrt\" max feature)</td>\n      <td>0.978947</td>\n      <td>0.979182</td>\n      <td>0.015s</td>\n      <td>0.003s</td>\n    </tr>\n    <tr>\n      <th>8</th>\n      <td>Random F. (\"10\" trees, \"log2\" max feature)</td>\n      <td>0.947368</td>\n      <td>0.947673</td>\n      <td>0.013s</td>\n      <td>0.002s</td>\n    </tr>\n    <tr>\n      <th>9</th>\n      <td>Random F. (\"50\" trees, \"sqrt\" max feature)</td>\n      <td>0.947368</td>\n      <td>0.948688</td>\n      <td>0.055s</td>\n      <td>0.007s</td>\n    </tr>\n    <tr>\n      <th>10</th>\n      <td>Random F. (\"50\" trees, \"log2\" max feature)</td>\n      <td>0.957895</td>\n      <td>0.958770</td>\n      <td>0.054s</td>\n      <td>0.007s</td>\n    </tr>\n    <tr>\n      <th>11</th>\n      <td>Random F. (\"100\" trees, \"sqrt\" max feature)</td>\n      <td>0.936842</td>\n      <td>0.938673</td>\n      <td>0.109s</td>\n      <td>0.014s</td>\n    </tr>\n    <tr>\n      <th>12</th>\n      <td>Random F. (\"100\" trees, \"log2\" max feature)</td>\n      <td>0.936842</td>\n      <td>0.938673</td>\n      <td>0.110s</td>\n      <td>0.014s</td>\n    </tr>\n  </tbody>\n</table>\n</div>"
     },
     "metadata": {},
     "output_type": "display_data"
    }
   ],
   "source": [
    "breastCancerDf = pd.DataFrame(breastCancerResults,\n",
    "                              columns=['algorithmName', 'accuracyScore', 'f1Score', 'trainTime', 'predictionTime'])\n",
    "display(breastCancerDf)"
   ],
   "metadata": {
    "collapsed": false,
    "pycharm": {
     "name": "#%%\n"
    }
   }
  },
  {
   "cell_type": "markdown",
   "source": [
    "## Find best result"
   ],
   "metadata": {
    "collapsed": false,
    "pycharm": {
     "name": "#%% md\n"
    }
   }
  },
  {
   "cell_type": "code",
   "execution_count": 63,
   "outputs": [
    {
     "name": "stdout",
     "output_type": "stream",
     "text": [
      "The classifier with the best f1-score was SVM with a score of  1.0\n",
      "The classifier with the best accuracy-score was SVM with a score of  1.0\n"
     ]
    }
   ],
   "source": [
    "bestResultF1 = None\n",
    "bestResultAccuracy = None\n",
    "\n",
    "for indexClassifier, classifier in enumerate(breastCancerResults):\n",
    "    if bestResultF1 is None or bestResultF1['f1Score'] < classifier['f1Score']:\n",
    "        bestResultF1 = classifier\n",
    "    if bestResultAccuracy is None or bestResultAccuracy['accuracyScore'] < classifier['accuracyScore']:\n",
    "        bestResultAccuracy = classifier\n",
    "\n",
    "print('The classifier with the best f1-score was', bestResultF1['algorithmName'], 'with a score of ', bestResultF1['f1Score'])\n",
    "print('The classifier with the best accuracy-score was', bestResultAccuracy['algorithmName'], 'with a score of ', bestResultF1['accuracyScore'])"
   ],
   "metadata": {
    "collapsed": false,
    "pycharm": {
     "name": "#%%\n"
    }
   }
  },
  {
   "cell_type": "markdown",
   "source": [
    "## Retrain the best classifier"
   ],
   "metadata": {
    "collapsed": false,
    "pycharm": {
     "name": "#%% md\n"
    }
   }
  },
  {
   "cell_type": "code",
   "execution_count": 64,
   "outputs": [],
   "source": [
    "bestClassifier = bestResultF1['classifier']\n",
    "\n",
    "bestClassifier.fit(X, y.ravel())\n",
    "\n",
    "# Predict again with the test-set\n",
    "testPrediction = bestClassifier.predict(breastCancerTestX)\n"
   ],
   "metadata": {
    "collapsed": false,
    "pycharm": {
     "name": "#%%\n"
    }
   }
  },
  {
   "cell_type": "markdown",
   "source": [
    "## Save the prediction"
   ],
   "metadata": {
    "collapsed": false,
    "pycharm": {
     "name": "#%% md\n"
    }
   }
  },
  {
   "cell_type": "markdown",
   "source": [
    "Now we save the prediction."
   ],
   "metadata": {
    "collapsed": false,
    "pycharm": {
     "name": "#%% md\n"
    }
   }
  },
  {
   "cell_type": "code",
   "execution_count": 65,
   "outputs": [],
   "source": [
    "resultCsv = list(zip(*[breastCancerTest.loc[:,'ID'], [str(x).lower() for x in testPrediction]]))\n",
    "filePath = 'results/breast-cancer-result.csv'\n",
    "np.savetxt(filePath,\n",
    "           resultCsv,\n",
    "           header='ID,class',\n",
    "           comments='',\n",
    "           delimiter =\",\",\n",
    "           fmt ='%s')"
   ],
   "metadata": {
    "collapsed": false,
    "pycharm": {
     "name": "#%%\n"
    }
   }
  }
 ],
 "metadata": {
  "kernelspec": {
   "display_name": "Python 3",
   "language": "python",
   "name": "python3"
  },
  "language_info": {
   "codemirror_mode": {
    "name": "ipython",
    "version": 2
   },
   "file_extension": ".py",
   "mimetype": "text/x-python",
   "name": "python",
   "nbconvert_exporter": "python",
   "pygments_lexer": "ipython2",
   "version": "2.7.6"
  }
 },
 "nbformat": 4,
 "nbformat_minor": 0
}