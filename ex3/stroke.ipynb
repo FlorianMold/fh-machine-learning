{
 "cells": [
  {
   "cell_type": "markdown",
   "source": [
    "# Stroke"
   ],
   "metadata": {
    "collapsed": false,
    "pycharm": {
     "name": "#%% md\n"
    }
   }
  },
  {
   "cell_type": "markdown",
   "source": [
    "## Import dependencies"
   ],
   "metadata": {
    "collapsed": false,
    "pycharm": {
     "name": "#%% md\n"
    }
   }
  },
  {
   "cell_type": "code",
   "execution_count": 1,
   "outputs": [],
   "source": [
    "import datetime\n",
    "import glob\n",
    "import os\n",
    "import time\n",
    "from collections import deque\n",
    "from sklearn.utils import shuffle\n",
    "\n",
    "from IPython.core.display_functions import display\n",
    "from progressbar import ProgressBar\n",
    "\n",
    "import librosa\n",
    "import numpy as np\n",
    "import pandas as pd\n",
    "from scipy.stats import skew, kurtosis\n",
    "from sklearn import preprocessing\n",
    "from sklearn.ensemble import RandomForestClassifier\n",
    "from sklearn.linear_model import Perceptron\n",
    "from sklearn.metrics import f1_score, accuracy_score, confusion_matrix\n",
    "from sklearn.model_selection import train_test_split\n",
    "from sklearn.neighbors import KNeighborsClassifier\n",
    "from sklearn.pipeline import make_pipeline\n",
    "from sklearn.preprocessing import StandardScaler\n",
    "from sklearn.svm import SVC\n",
    "from sklearn.tree import DecisionTreeClassifier\n",
    "\n",
    "# disable all warnings\n",
    "import warnings\n",
    "\n",
    "warnings.filterwarnings('ignore')\n",
    "\n",
    "matrikelNumber = 21006\n",
    "isKaggle = False"
   ],
   "metadata": {
    "collapsed": false,
    "pycharm": {
     "name": "#%%\n"
    }
   }
  },
  {
   "cell_type": "markdown",
   "source": [
    "## Classifiers"
   ],
   "metadata": {
    "collapsed": false,
    "pycharm": {
     "name": "#%% md\n"
    }
   }
  },
  {
   "cell_type": "markdown",
   "source": [
    "### KNN"
   ],
   "metadata": {
    "collapsed": false,
    "pycharm": {
     "name": "#%% md\n"
    }
   }
  },
  {
   "cell_type": "code",
   "execution_count": 2,
   "outputs": [],
   "source": [
    "def kNearestNeighbours(datasetName, kNeighbours, XTrain, XTest, yTrain, yTest):\n",
    "    results = []\n",
    "\n",
    "    for k in kNeighbours:\n",
    "        print(datasetName)\n",
    "        print('kNN with', k, 'neighbours')\n",
    "        knnClassifier = KNeighborsClassifier(n_neighbors=k, algorithm='kd_tree')\n",
    "\n",
    "        # Train the classifier\n",
    "        startTime = time.time()\n",
    "        knnClassifier.fit(XTrain, yTrain.ravel())\n",
    "        endTime = time.time()\n",
    "        trainTime = endTime - startTime\n",
    "\n",
    "        # Predict\n",
    "        startTime = time.time()\n",
    "        predicted = knnClassifier.predict(XTest)\n",
    "        endTime = time.time()\n",
    "        predictionTime = endTime - startTime\n",
    "\n",
    "        # Effectiveness measurement\n",
    "        accuracyScore = accuracy_score(yTest, predicted)\n",
    "        f1Score = f1_score(yTest, predicted, average='weighted')\n",
    "\n",
    "        formattedTrainTime = str(\"{:.3f}s\".format(trainTime))\n",
    "        formattedPredictionTime = str(\"{:.3f}s\".format(predictionTime))\n",
    "        formattedAccuracyScore = str(\"{:.3f}%\".format(accuracyScore * 100))\n",
    "        formattedF1Score = str(\"{:.3f}%\".format(f1Score * 100))\n",
    "\n",
    "        print('Training time:', formattedTrainTime)\n",
    "        print('Testing time:', formattedPredictionTime)\n",
    "        print()\n",
    "\n",
    "        print('Accuracy:', formattedAccuracyScore)\n",
    "        print('F1 score:', formattedF1Score)\n",
    "        print('------------------------------------')\n",
    "\n",
    "        result = {\n",
    "            'datasetName': datasetName,\n",
    "            'algorithmName': 'kNN with \"' + str(k) + '\" neighbours',\n",
    "            'neighbours': k,\n",
    "            'accuracyScore': accuracyScore,\n",
    "            'f1Score': f1Score,\n",
    "            'trainTime': formattedTrainTime,\n",
    "            'predictionTime': formattedPredictionTime,\n",
    "            'yTestPredicted': predicted,\n",
    "            'XTrain': XTrain,\n",
    "            'XTest': XTest,\n",
    "            'yTrain': yTrain,\n",
    "            'yTest': yTest,\n",
    "            'classifier': knnClassifier,\n",
    "        }\n",
    "\n",
    "        results.append(result)\n",
    "\n",
    "    return results"
   ],
   "metadata": {
    "collapsed": false,
    "pycharm": {
     "name": "#%%\n"
    }
   }
  },
  {
   "cell_type": "markdown",
   "source": [
    "### Decision Tree"
   ],
   "metadata": {
    "collapsed": false,
    "pycharm": {
     "name": "#%% md\n"
    }
   }
  },
  {
   "cell_type": "code",
   "execution_count": 3,
   "outputs": [],
   "source": [
    "def decisionTree(datasetName, maxFeatureValues, XTrain, XTest, yTrain, yTest):\n",
    "    results = []\n",
    "\n",
    "    for maxFeatures in maxFeatureValues:\n",
    "        print(datasetName)\n",
    "        print('Decision Tree with max features', maxFeatures)\n",
    "\n",
    "        decisionTreeClassifier = DecisionTreeClassifier(max_features=maxFeatures, random_state=matrikelNumber)\n",
    "\n",
    "        # Train the classifier\n",
    "        startTime = time.time()\n",
    "        decisionTreeClassifier.fit(XTrain, yTrain.ravel())\n",
    "        endTime = time.time()\n",
    "        trainTime = endTime - startTime\n",
    "\n",
    "        # Predict\n",
    "        startTime = time.time()\n",
    "        predicted = decisionTreeClassifier.predict(XTest)\n",
    "        endTime = time.time()\n",
    "        predictionTime = endTime - startTime\n",
    "\n",
    "        # Effectiveness measurement\n",
    "        accuracyScore = accuracy_score(yTest, predicted)\n",
    "        f1Score = f1_score(yTest, predicted, average='weighted')\n",
    "\n",
    "        formattedTrainTime = str(\"{:.3f}s\".format(trainTime))\n",
    "        formattedPredictionTime = str(\"{:.3f}s\".format(predictionTime))\n",
    "        formattedAccuracyScore = str(\"{:.3f}%\".format(accuracyScore * 100))\n",
    "        formattedF1Score = str(\"{:.3f}%\".format(f1Score * 100))\n",
    "\n",
    "        print('Training time:', formattedTrainTime)\n",
    "        print('Testing time:', formattedPredictionTime)\n",
    "        print()\n",
    "\n",
    "        print('Accuracy:', formattedAccuracyScore)\n",
    "        print('F1 score:', formattedF1Score)\n",
    "        print('------------------------------------')\n",
    "\n",
    "        result = {\n",
    "            'datasetName': datasetName,\n",
    "            'algorithmName': 'Decision Tree with \"' + str(maxFeatures) + '\" max features',\n",
    "            'maxFeatures': maxFeatures,\n",
    "            'accuracyScore': accuracyScore,\n",
    "            'f1Score': f1Score,\n",
    "            'trainTime': formattedTrainTime,\n",
    "            'predictionTime': formattedPredictionTime,\n",
    "            'yTestPredicted': predicted,\n",
    "            'XTrain': XTrain,\n",
    "            'XTest': XTest,\n",
    "            'yTrain': yTrain,\n",
    "            'yTest': yTest,\n",
    "            'classifier': decisionTreeClassifier,\n",
    "        }\n",
    "\n",
    "        results.append(result)\n",
    "\n",
    "    return results"
   ],
   "metadata": {
    "collapsed": false,
    "pycharm": {
     "name": "#%%\n"
    }
   }
  },
  {
   "cell_type": "markdown",
   "source": [
    "### Support Vector Machine"
   ],
   "metadata": {
    "collapsed": false,
    "pycharm": {
     "name": "#%% md\n"
    }
   }
  },
  {
   "cell_type": "code",
   "execution_count": 4,
   "outputs": [],
   "source": [
    "def supportVectorMachine(datasetName, XTrain, XTest, yTrain, yTest):\n",
    "    print(datasetName)\n",
    "    print('Support Vector Machine')\n",
    "\n",
    "    results = []\n",
    "\n",
    "    svmClassifier = make_pipeline(StandardScaler(), SVC(kernel='sigmoid', random_state=matrikelNumber))\n",
    "\n",
    "    # Train the classifier\n",
    "    startTime = time.time()\n",
    "    svmClassifier.fit(XTrain, yTrain.ravel())\n",
    "    endTime = time.time()\n",
    "    trainTime = endTime - startTime\n",
    "\n",
    "    # Predict\n",
    "    startTime = time.time()\n",
    "    predicted = svmClassifier.predict(XTest)\n",
    "    endTime = time.time()\n",
    "    predictionTime = endTime - startTime\n",
    "\n",
    "    # Effectiveness measurement\n",
    "    accuracyScore = accuracy_score(yTest, predicted)\n",
    "    f1Score = f1_score(yTest, predicted, average='weighted')\n",
    "\n",
    "    formattedTrainTime = str(\"{:.3f}s\".format(trainTime))\n",
    "    formattedPredictionTime = str(\"{:.3f}s\".format(predictionTime))\n",
    "    formattedAccuracyScore = str(\"{:.3f}%\".format(accuracyScore * 100))\n",
    "    formattedF1Score = str(\"{:.3f}%\".format(f1Score * 100))\n",
    "\n",
    "    print('Training time:', formattedTrainTime)\n",
    "    print('Testing time:', formattedPredictionTime)\n",
    "    print()\n",
    "\n",
    "    print('Accuracy:', formattedAccuracyScore)\n",
    "    print('F1 score:', formattedF1Score)\n",
    "    print('------------------------------------')\n",
    "\n",
    "    result = {\n",
    "        'datasetName': datasetName,\n",
    "        'algorithmName': 'SVM',\n",
    "        'accuracyScore': accuracyScore,\n",
    "        'f1Score': f1Score,\n",
    "        'trainTime': formattedTrainTime,\n",
    "        'predictionTime': formattedPredictionTime,\n",
    "        'yTestPredicted': predicted,\n",
    "        'XTrain': XTrain,\n",
    "        'XTest': XTest,\n",
    "        'yTrain': yTrain,\n",
    "        'yTest': yTest,\n",
    "        'classifier': svmClassifier,\n",
    "    }\n",
    "\n",
    "    results.append(result)\n",
    "\n",
    "    return results"
   ],
   "metadata": {
    "collapsed": false,
    "pycharm": {
     "name": "#%%\n"
    }
   }
  },
  {
   "cell_type": "markdown",
   "source": [
    "### Random forests"
   ],
   "metadata": {
    "collapsed": false,
    "pycharm": {
     "name": "#%% md\n"
    }
   }
  },
  {
   "cell_type": "code",
   "execution_count": 5,
   "outputs": [],
   "source": [
    "def randomForest(datasetName, numberOfTrees, maxFeatureValues, XTrain, XTest, yTrain, yTest):\n",
    "    results = []\n",
    "\n",
    "    for numberOfTreeElements in numberOfTrees:\n",
    "        for maxFeatureValue in maxFeatureValues:\n",
    "            print(datasetName)\n",
    "            print('Random forest with', numberOfTreeElements, 'trees and', maxFeatureValue, 'max features')\n",
    "\n",
    "            randomForestClassifier = RandomForestClassifier(\n",
    "                n_estimators=numberOfTreeElements,\n",
    "                max_features=maxFeatureValue,\n",
    "                random_state=matrikelNumber\n",
    "            )\n",
    "\n",
    "            # Train the classifier\n",
    "            startTime = time.time()\n",
    "            randomForestClassifier.fit(XTrain, yTrain.ravel())\n",
    "            endTime = time.time()\n",
    "            trainTime = endTime - startTime\n",
    "\n",
    "            # Predict\n",
    "            startTime = time.time()\n",
    "            predicted = randomForestClassifier.predict(XTest)\n",
    "            endTime = time.time()\n",
    "            predictionTime = endTime - startTime\n",
    "\n",
    "            # Effectiveness measurement\n",
    "            accuracyScore = accuracy_score(yTest, predicted)\n",
    "            f1Score = f1_score(yTest, predicted, average='weighted')\n",
    "\n",
    "            formattedTrainTime = str(\"{:.3f}s\".format(trainTime))\n",
    "            formattedPredictionTime = str(\"{:.3f}s\".format(predictionTime))\n",
    "            formattedAccuracyScore = str(\"{:.3f}%\".format(accuracyScore * 100))\n",
    "            formattedF1Score = str(\"{:.3f}%\".format(f1Score * 100))\n",
    "\n",
    "            print('Training time:', formattedTrainTime)\n",
    "            print('Testing time:', formattedPredictionTime)\n",
    "            print()\n",
    "\n",
    "            print('Accuracy:', formattedAccuracyScore)\n",
    "            print('F1 score:', formattedF1Score)\n",
    "            print('------------------------------------')\n",
    "\n",
    "            result = {\n",
    "                'datasetName': datasetName,\n",
    "                'algorithmName': 'Random F. (\"' + str(numberOfTreeElements) + '\" trees, \"' + str(\n",
    "                    maxFeatureValue) + '\" max feature)',\n",
    "                'numberOfTreeElements': numberOfTreeElements,\n",
    "                'maxFeatureValue': maxFeatureValue,\n",
    "                'accuracyScore': accuracyScore,\n",
    "                'f1Score': f1Score,\n",
    "                'trainTime': formattedTrainTime,\n",
    "                'predictionTime': formattedPredictionTime,\n",
    "                'yTestPredicted': predicted,\n",
    "                'XTrain': XTrain,\n",
    "                'XTest': XTest,\n",
    "                'yTrain': yTrain,\n",
    "                'yTest': yTest,\n",
    "                'classifier': randomForestClassifier,\n",
    "            }\n",
    "\n",
    "            results.append(result)\n",
    "\n",
    "    return results"
   ],
   "metadata": {
    "collapsed": false,
    "pycharm": {
     "name": "#%%\n"
    }
   }
  },
  {
   "cell_type": "markdown",
   "source": [
    "## Load dataset"
   ],
   "metadata": {
    "collapsed": false,
    "pycharm": {
     "name": "#%% md\n"
    }
   }
  },
  {
   "cell_type": "code",
   "execution_count": 6,
   "outputs": [],
   "source": [
    "datasetName = 'Stroke'\n",
    "\n",
    "# Load training dataset\n",
    "filePathTrainDataset = './data/stroke/stroke.shuf.lrn.csv'\n",
    "if isKaggle:\n",
    "    filePathTrainDataset = '/kaggle/input/mse-bb-2-ss2022-mle-stroke/stroke.shuf.lrn.csv'\n",
    "\n",
    "strokeTrain = pd.read_csv(filePathTrainDataset, sep=',')\n",
    "\n",
    "# Load test dataset\n",
    "filePathTestData = './data/stroke/stroke.shuf.tes.csv'\n",
    "if isKaggle:\n",
    "    filePathTestData = '/kaggle/input/mse-bb-2-ss2022-mle-stroke/stroke.shuf.tes.csv'\n",
    "\n",
    "strokeTest = pd.read_csv(filePathTestData, sep=',')"
   ],
   "metadata": {
    "collapsed": false,
    "pycharm": {
     "name": "#%%\n"
    }
   }
  },
  {
   "cell_type": "markdown",
   "source": [
    "## Prepare dataset\n",
    "\n",
    "The dataset contains string values, which cannot be processed, we have to change the values to numbers."
   ],
   "metadata": {
    "collapsed": false,
    "pycharm": {
     "name": "#%% md\n"
    }
   }
  },
  {
   "cell_type": "code",
   "execution_count": 7,
   "outputs": [],
   "source": [
    "def mapToNumeric(data_set, column_name):\n",
    "    label_encoder = preprocessing.LabelEncoder()\n",
    "    label_encoder.fit(data_set[column_name])\n",
    "    data_set[column_name] = label_encoder.transform(data_set[column_name])\n",
    "    return data_set\n",
    "\n",
    "def mapStringsToNumbers(data_set):\n",
    "    data_set = mapToNumeric(data_set, 'gender')\n",
    "    data_set = mapToNumeric(data_set, 'ever_married')\n",
    "    data_set = mapToNumeric(data_set, 'work_type')\n",
    "    data_set = mapToNumeric(data_set, 'Residence_type')\n",
    "    data_set = mapToNumeric(data_set, 'smoking_status')\n",
    "    data_set = data_set.fillna(0)\n",
    "    return data_set\n",
    "\n",
    "strokeTrain = mapStringsToNumbers(strokeTrain)\n",
    "strokeTest = mapStringsToNumbers(strokeTest)"
   ],
   "metadata": {
    "collapsed": false,
    "pycharm": {
     "name": "#%%\n"
    }
   }
  },
  {
   "cell_type": "markdown",
   "source": [
    "## Split"
   ],
   "metadata": {
    "collapsed": false,
    "pycharm": {
     "name": "#%% md\n"
    }
   }
  },
  {
   "cell_type": "code",
   "execution_count": 8,
   "outputs": [],
   "source": [
    "# Split data in input features (X) and target (y) feature\n",
    "trainDataX = strokeTrain.loc[:, 'gender':'smoking_status']\n",
    "trainDataY = strokeTrain.loc[:, 'stroke']\n",
    "\n",
    "strokeTestX = strokeTest.loc[:, 'gender':'smoking_status']"
   ],
   "metadata": {
    "collapsed": false,
    "pycharm": {
     "name": "#%%\n"
    }
   }
  },
  {
   "cell_type": "markdown",
   "source": [
    "## Apply Classifiers"
   ],
   "metadata": {
    "collapsed": false,
    "pycharm": {
     "name": "#%% md\n"
    }
   }
  },
  {
   "cell_type": "code",
   "execution_count": 9,
   "outputs": [
    {
     "name": "stdout",
     "output_type": "stream",
     "text": [
      "Stroke\n",
      "kNN with 2 neighbours\n",
      "Training time: 0.003s\n",
      "Testing time: 0.023s\n",
      "\n",
      "Accuracy: 95.498%\n",
      "F1 score: 93.646%\n",
      "------------------------------------\n",
      "Stroke\n",
      "kNN with 4 neighbours\n",
      "Training time: 0.003s\n",
      "Testing time: 0.019s\n",
      "\n",
      "Accuracy: 95.616%\n",
      "F1 score: 93.705%\n",
      "------------------------------------\n",
      "Stroke\n",
      "kNN with 6 neighbours\n",
      "Training time: 0.002s\n",
      "Testing time: 0.019s\n",
      "\n",
      "Accuracy: 95.853%\n",
      "F1 score: 93.824%\n",
      "------------------------------------\n",
      "Stroke\n",
      "Decision Tree with max features None\n",
      "Training time: 0.005s\n",
      "Testing time: 0.001s\n",
      "\n",
      "Accuracy: 92.536%\n",
      "F1 score: 92.484%\n",
      "------------------------------------\n",
      "Stroke\n",
      "Decision Tree with max features sqrt\n",
      "Training time: 0.003s\n",
      "Testing time: 0.001s\n",
      "\n",
      "Accuracy: 91.706%\n",
      "F1 score: 92.111%\n",
      "------------------------------------\n",
      "Stroke\n",
      "Decision Tree with max features log2\n",
      "Training time: 0.003s\n",
      "Testing time: 0.001s\n",
      "\n",
      "Accuracy: 91.706%\n",
      "F1 score: 92.111%\n",
      "------------------------------------\n",
      "Stroke\n",
      "Support Vector Machine\n",
      "Training time: 0.021s\n",
      "Testing time: 0.007s\n",
      "\n",
      "Accuracy: 94.668%\n",
      "F1 score: 93.401%\n",
      "------------------------------------\n",
      "Stroke\n",
      "Random forest with 10 trees and sqrt max features\n",
      "Training time: 0.023s\n",
      "Testing time: 0.004s\n",
      "\n",
      "Accuracy: 95.735%\n",
      "F1 score: 94.174%\n",
      "------------------------------------\n",
      "Stroke\n",
      "Random forest with 10 trees and log2 max features\n",
      "Training time: 0.021s\n",
      "Testing time: 0.004s\n",
      "\n",
      "Accuracy: 95.735%\n",
      "F1 score: 94.174%\n",
      "------------------------------------\n",
      "Stroke\n",
      "Random forest with 50 trees and sqrt max features\n",
      "Training time: 0.095s\n",
      "Testing time: 0.010s\n",
      "\n",
      "Accuracy: 95.735%\n",
      "F1 score: 93.764%\n",
      "------------------------------------\n",
      "Stroke\n",
      "Random forest with 50 trees and log2 max features\n",
      "Training time: 0.090s\n",
      "Testing time: 0.009s\n",
      "\n",
      "Accuracy: 95.735%\n",
      "F1 score: 93.764%\n",
      "------------------------------------\n",
      "Stroke\n",
      "Random forest with 100 trees and sqrt max features\n",
      "Training time: 0.186s\n",
      "Testing time: 0.019s\n",
      "\n",
      "Accuracy: 95.853%\n",
      "F1 score: 93.824%\n",
      "------------------------------------\n",
      "Stroke\n",
      "Random forest with 100 trees and log2 max features\n",
      "Training time: 0.187s\n",
      "Testing time: 0.018s\n",
      "\n",
      "Accuracy: 95.853%\n",
      "F1 score: 93.824%\n",
      "------------------------------------\n"
     ]
    }
   ],
   "source": [
    "testSplitSize = 0.33\n",
    "\n",
    "kNNNeighbours = [2, 4, 6]\n",
    "decisionTreeMaxFeatureValues = [None, 'sqrt', 'log2']\n",
    "randomForestTrees = [10, 50, 100]\n",
    "randomForestMaxFeatureValues = ['sqrt', 'log2']\n",
    "strokeResults = []\n",
    "\n",
    "X, y = shuffle(trainDataX, trainDataY, random_state=matrikelNumber)\n",
    "\n",
    "trainData, testData, trainLabels, testLabels = train_test_split(\n",
    "    X,\n",
    "    y,\n",
    "    test_size=testSplitSize,\n",
    "    random_state=matrikelNumber\n",
    ")\n",
    "\n",
    "kNNResults = kNearestNeighbours(\n",
    "    datasetName,\n",
    "    kNNNeighbours,\n",
    "    trainData,\n",
    "    testData,\n",
    "    trainLabels,\n",
    "    testLabels\n",
    ")\n",
    "strokeResults.extend(kNNResults)\n",
    "\n",
    "decisionTreeResults = decisionTree(\n",
    "    datasetName,\n",
    "    decisionTreeMaxFeatureValues,\n",
    "    trainData,\n",
    "    testData,\n",
    "    trainLabels,\n",
    "    testLabels\n",
    ")\n",
    "strokeResults.extend(decisionTreeResults)\n",
    "\n",
    "supportVectorMachineResults = supportVectorMachine(\n",
    "    datasetName,\n",
    "    trainData,\n",
    "    testData,\n",
    "    trainLabels,\n",
    "    testLabels\n",
    ")\n",
    "strokeResults.extend(supportVectorMachineResults)\n",
    "\n",
    "randomForestResults = randomForest(\n",
    "    datasetName,\n",
    "    randomForestTrees,\n",
    "    randomForestMaxFeatureValues,\n",
    "    trainData,\n",
    "    testData,\n",
    "    trainLabels,\n",
    "    testLabels\n",
    ")\n",
    "strokeResults.extend(randomForestResults)"
   ],
   "metadata": {
    "collapsed": false,
    "pycharm": {
     "name": "#%%\n"
    }
   }
  },
  {
   "cell_type": "markdown",
   "source": [
    "## Display results"
   ],
   "metadata": {
    "collapsed": false,
    "pycharm": {
     "name": "#%% md\n"
    }
   }
  },
  {
   "cell_type": "code",
   "execution_count": 10,
   "outputs": [
    {
     "data": {
      "text/plain": "                                  algorithmName  accuracyScore   f1Score  \\\n0                       kNN with \"2\" neighbours       0.954976  0.936456   \n1                       kNN with \"4\" neighbours       0.956161  0.937049   \n2                       kNN with \"6\" neighbours       0.958531  0.938235   \n3        Decision Tree with \"None\" max features       0.925355  0.924838   \n4        Decision Tree with \"sqrt\" max features       0.917062  0.921109   \n5        Decision Tree with \"log2\" max features       0.917062  0.921109   \n6                                           SVM       0.946682  0.934010   \n7    Random F. (\"10\" trees, \"sqrt\" max feature)       0.957346  0.941739   \n8    Random F. (\"10\" trees, \"log2\" max feature)       0.957346  0.941739   \n9    Random F. (\"50\" trees, \"sqrt\" max feature)       0.957346  0.937643   \n10   Random F. (\"50\" trees, \"log2\" max feature)       0.957346  0.937643   \n11  Random F. (\"100\" trees, \"sqrt\" max feature)       0.958531  0.938235   \n12  Random F. (\"100\" trees, \"log2\" max feature)       0.958531  0.938235   \n\n   trainTime predictionTime  \n0     0.003s         0.023s  \n1     0.003s         0.019s  \n2     0.002s         0.019s  \n3     0.005s         0.001s  \n4     0.003s         0.001s  \n5     0.003s         0.001s  \n6     0.021s         0.007s  \n7     0.023s         0.004s  \n8     0.021s         0.004s  \n9     0.095s         0.010s  \n10    0.090s         0.009s  \n11    0.186s         0.019s  \n12    0.187s         0.018s  ",
      "text/html": "<div>\n<style scoped>\n    .dataframe tbody tr th:only-of-type {\n        vertical-align: middle;\n    }\n\n    .dataframe tbody tr th {\n        vertical-align: top;\n    }\n\n    .dataframe thead th {\n        text-align: right;\n    }\n</style>\n<table border=\"1\" class=\"dataframe\">\n  <thead>\n    <tr style=\"text-align: right;\">\n      <th></th>\n      <th>algorithmName</th>\n      <th>accuracyScore</th>\n      <th>f1Score</th>\n      <th>trainTime</th>\n      <th>predictionTime</th>\n    </tr>\n  </thead>\n  <tbody>\n    <tr>\n      <th>0</th>\n      <td>kNN with \"2\" neighbours</td>\n      <td>0.954976</td>\n      <td>0.936456</td>\n      <td>0.003s</td>\n      <td>0.023s</td>\n    </tr>\n    <tr>\n      <th>1</th>\n      <td>kNN with \"4\" neighbours</td>\n      <td>0.956161</td>\n      <td>0.937049</td>\n      <td>0.003s</td>\n      <td>0.019s</td>\n    </tr>\n    <tr>\n      <th>2</th>\n      <td>kNN with \"6\" neighbours</td>\n      <td>0.958531</td>\n      <td>0.938235</td>\n      <td>0.002s</td>\n      <td>0.019s</td>\n    </tr>\n    <tr>\n      <th>3</th>\n      <td>Decision Tree with \"None\" max features</td>\n      <td>0.925355</td>\n      <td>0.924838</td>\n      <td>0.005s</td>\n      <td>0.001s</td>\n    </tr>\n    <tr>\n      <th>4</th>\n      <td>Decision Tree with \"sqrt\" max features</td>\n      <td>0.917062</td>\n      <td>0.921109</td>\n      <td>0.003s</td>\n      <td>0.001s</td>\n    </tr>\n    <tr>\n      <th>5</th>\n      <td>Decision Tree with \"log2\" max features</td>\n      <td>0.917062</td>\n      <td>0.921109</td>\n      <td>0.003s</td>\n      <td>0.001s</td>\n    </tr>\n    <tr>\n      <th>6</th>\n      <td>SVM</td>\n      <td>0.946682</td>\n      <td>0.934010</td>\n      <td>0.021s</td>\n      <td>0.007s</td>\n    </tr>\n    <tr>\n      <th>7</th>\n      <td>Random F. (\"10\" trees, \"sqrt\" max feature)</td>\n      <td>0.957346</td>\n      <td>0.941739</td>\n      <td>0.023s</td>\n      <td>0.004s</td>\n    </tr>\n    <tr>\n      <th>8</th>\n      <td>Random F. (\"10\" trees, \"log2\" max feature)</td>\n      <td>0.957346</td>\n      <td>0.941739</td>\n      <td>0.021s</td>\n      <td>0.004s</td>\n    </tr>\n    <tr>\n      <th>9</th>\n      <td>Random F. (\"50\" trees, \"sqrt\" max feature)</td>\n      <td>0.957346</td>\n      <td>0.937643</td>\n      <td>0.095s</td>\n      <td>0.010s</td>\n    </tr>\n    <tr>\n      <th>10</th>\n      <td>Random F. (\"50\" trees, \"log2\" max feature)</td>\n      <td>0.957346</td>\n      <td>0.937643</td>\n      <td>0.090s</td>\n      <td>0.009s</td>\n    </tr>\n    <tr>\n      <th>11</th>\n      <td>Random F. (\"100\" trees, \"sqrt\" max feature)</td>\n      <td>0.958531</td>\n      <td>0.938235</td>\n      <td>0.186s</td>\n      <td>0.019s</td>\n    </tr>\n    <tr>\n      <th>12</th>\n      <td>Random F. (\"100\" trees, \"log2\" max feature)</td>\n      <td>0.958531</td>\n      <td>0.938235</td>\n      <td>0.187s</td>\n      <td>0.018s</td>\n    </tr>\n  </tbody>\n</table>\n</div>"
     },
     "metadata": {},
     "output_type": "display_data"
    }
   ],
   "source": [
    "strokeDf = pd.DataFrame(strokeResults,\n",
    "                        columns=['algorithmName', 'accuracyScore', 'f1Score', 'trainTime', 'predictionTime'])\n",
    "display(strokeDf)"
   ],
   "metadata": {
    "collapsed": false,
    "pycharm": {
     "name": "#%%\n"
    }
   }
  },
  {
   "cell_type": "markdown",
   "source": [
    "## Find best result"
   ],
   "metadata": {
    "collapsed": false,
    "pycharm": {
     "name": "#%% md\n"
    }
   }
  },
  {
   "cell_type": "code",
   "execution_count": 11,
   "outputs": [
    {
     "name": "stdout",
     "output_type": "stream",
     "text": [
      "The classifier with the best f1-score was Random F. (\"10\" trees, \"sqrt\" max feature) with a score of  0.9417389453825978\n",
      "The classifier with the best accuracy-score was kNN with \"6\" neighbours with a score of  0.957345971563981\n"
     ]
    }
   ],
   "source": [
    "bestResultF1 = None\n",
    "bestResultAccuracy = None\n",
    "\n",
    "for indexClassifier, classifier in enumerate(strokeResults):\n",
    "    if bestResultF1 is None or bestResultF1['f1Score'] < classifier['f1Score']:\n",
    "        bestResultF1 = classifier\n",
    "    if bestResultAccuracy is None or bestResultAccuracy['accuracyScore'] < classifier['accuracyScore']:\n",
    "        bestResultAccuracy = classifier\n",
    "\n",
    "print('The classifier with the best f1-score was', bestResultF1['algorithmName'], 'with a score of ', bestResultF1['f1Score'])\n",
    "print('The classifier with the best accuracy-score was', bestResultAccuracy['algorithmName'], 'with a score of ', bestResultF1['accuracyScore'])\n",
    "\n",
    "bestScore = bestResultF1 if bestResultF1['f1Score'] > bestResultAccuracy['accuracyScore'] else bestResultAccuracy"
   ],
   "metadata": {
    "collapsed": false,
    "pycharm": {
     "name": "#%%\n"
    }
   }
  },
  {
   "cell_type": "markdown",
   "source": [
    "## Retrain the best classifier"
   ],
   "metadata": {
    "collapsed": false,
    "pycharm": {
     "name": "#%% md\n"
    }
   }
  },
  {
   "cell_type": "code",
   "execution_count": 12,
   "outputs": [],
   "source": [
    "bestClassifier = bestScore['classifier']\n",
    "\n",
    "bestClassifier.fit(X, y.ravel())\n",
    "\n",
    "# Predict again with the test-set\n",
    "testPrediction = bestClassifier.predict(strokeTestX)\n"
   ],
   "metadata": {
    "collapsed": false,
    "pycharm": {
     "name": "#%%\n"
    }
   }
  },
  {
   "cell_type": "markdown",
   "source": [
    "## Save the prediction"
   ],
   "metadata": {
    "collapsed": false,
    "pycharm": {
     "name": "#%% md\n"
    }
   }
  },
  {
   "cell_type": "markdown",
   "source": [
    "Now we save the prediction."
   ],
   "metadata": {
    "collapsed": false,
    "pycharm": {
     "name": "#%% md\n"
    }
   }
  },
  {
   "cell_type": "code",
   "execution_count": 13,
   "outputs": [],
   "source": [
    "resultCsv = list(zip(*[strokeTest.loc[:, 'ID'], [str(x).lower() for x in testPrediction]]))\n",
    "filePath = 'results/stroke-result.csv'\n",
    "np.savetxt(filePath,\n",
    "           resultCsv,\n",
    "           header='ID,stroke',\n",
    "           comments='',\n",
    "           delimiter=\",\",\n",
    "           fmt='%s')"
   ],
   "metadata": {
    "collapsed": false,
    "pycharm": {
     "name": "#%%\n"
    }
   }
  },
  {
   "cell_type": "code",
   "execution_count": 13,
   "outputs": [],
   "source": [],
   "metadata": {
    "collapsed": false,
    "pycharm": {
     "name": "#%%\n"
    }
   }
  }
 ],
 "metadata": {
  "kernelspec": {
   "display_name": "Python 3",
   "language": "python",
   "name": "python3"
  },
  "language_info": {
   "codemirror_mode": {
    "name": "ipython",
    "version": 2
   },
   "file_extension": ".py",
   "mimetype": "text/x-python",
   "name": "python",
   "nbconvert_exporter": "python",
   "pygments_lexer": "ipython2",
   "version": "2.7.6"
  }
 },
 "nbformat": 4,
 "nbformat_minor": 0
}